{
  "nbformat": 4,
  "nbformat_minor": 0,
  "metadata": {
    "colab": {
      "name": "Sustainability.ipynb",
      "provenance": [],
      "collapsed_sections": [],
      "authorship_tag": "ABX9TyNMqMnC2Kiy9Tcp3FXBqoOz",
      "include_colab_link": true
    },
    "kernelspec": {
      "name": "python3",
      "display_name": "Python 3"
    },
    "language_info": {
      "name": "python"
    }
  },
  "cells": [
    {
      "cell_type": "markdown",
      "metadata": {
        "id": "view-in-github",
        "colab_type": "text"
      },
      "source": [
        "<a href=\"https://colab.research.google.com/github/NijilChandran/Sustainability/blob/main/Sustainability.ipynb\" target=\"_parent\"><img src=\"https://colab.research.google.com/assets/colab-badge.svg\" alt=\"Open In Colab\"/></a>"
      ]
    },
    {
      "cell_type": "code",
      "execution_count": 1,
      "metadata": {
        "id": "q74j0pJqfjuk"
      },
      "outputs": [],
      "source": [
        "import pandas as pd\n",
        "from sklearn.preprocessing import StandardScaler\n",
        "from sklearn.model_selection import train_test_split\n",
        "import matplotlib.pyplot as plt"
      ]
    },
    {
      "cell_type": "code",
      "source": [
        "from google.colab import files\n",
        "upload = files.upload()"
      ],
      "metadata": {
        "id": "qszXHIIjf1yV"
      },
      "execution_count": null,
      "outputs": []
    },
    {
      "cell_type": "code",
      "source": [
        "!unzip Participants_Data_WSMLC.zip"
      ],
      "metadata": {
        "colab": {
          "base_uri": "https://localhost:8080/"
        },
        "id": "odYTh5rcAjhf",
        "outputId": "a28506df-e7e8-4b17-bb18-ecf6bd7b68f2"
      },
      "execution_count": 4,
      "outputs": [
        {
          "output_type": "stream",
          "name": "stdout",
          "text": [
            "Archive:  Participants_Data_WSMLC.zip\n",
            "  inflating: train.csv               \n",
            "replace __MACOSX/._train.csv? [y]es, [n]o, [A]ll, [N]one, [r]ename: A\n",
            "  inflating: __MACOSX/._train.csv    \n",
            "  inflating: test.csv                \n",
            "  inflating: __MACOSX/._test.csv     \n",
            "  inflating: sample_submission.csv   \n",
            "  inflating: __MACOSX/._sample_submission.csv  \n"
          ]
        }
      ]
    },
    {
      "cell_type": "code",
      "source": [
        "df_train = pd.read_csv(\"train.csv\")\n",
        "df_train.head()"
      ],
      "metadata": {
        "colab": {
          "base_uri": "https://localhost:8080/",
          "height": 267
        },
        "id": "LTz65dxFf5jj",
        "outputId": "fab9e99b-cfbe-47d2-893a-2c8b9cd48440"
      },
      "execution_count": 5,
      "outputs": [
        {
          "output_type": "execute_result",
          "data": {
            "text/html": [
              "\n",
              "  <div id=\"df-7b1fbff1-d162-4b5c-a7ad-61ae8891894e\">\n",
              "    <div class=\"colab-df-container\">\n",
              "      <div>\n",
              "<style scoped>\n",
              "    .dataframe tbody tr th:only-of-type {\n",
              "        vertical-align: middle;\n",
              "    }\n",
              "\n",
              "    .dataframe tbody tr th {\n",
              "        vertical-align: top;\n",
              "    }\n",
              "\n",
              "    .dataframe thead th {\n",
              "        text-align: right;\n",
              "    }\n",
              "</style>\n",
              "<table border=\"1\" class=\"dataframe\">\n",
              "  <thead>\n",
              "    <tr style=\"text-align: right;\">\n",
              "      <th></th>\n",
              "      <th>Year</th>\n",
              "      <th>Month</th>\n",
              "      <th>Day</th>\n",
              "      <th>Hour</th>\n",
              "      <th>Minute</th>\n",
              "      <th>Clearsky DHI</th>\n",
              "      <th>Clearsky DNI</th>\n",
              "      <th>Clearsky GHI</th>\n",
              "      <th>Cloud Type</th>\n",
              "      <th>Dew Point</th>\n",
              "      <th>Temperature</th>\n",
              "      <th>Pressure</th>\n",
              "      <th>Relative Humidity</th>\n",
              "      <th>Solar Zenith Angle</th>\n",
              "      <th>Precipitable Water</th>\n",
              "      <th>Wind Direction</th>\n",
              "      <th>Wind Speed</th>\n",
              "      <th>Fill Flag</th>\n",
              "    </tr>\n",
              "  </thead>\n",
              "  <tbody>\n",
              "    <tr>\n",
              "      <th>0</th>\n",
              "      <td>2009</td>\n",
              "      <td>1</td>\n",
              "      <td>1</td>\n",
              "      <td>0</td>\n",
              "      <td>0</td>\n",
              "      <td>0</td>\n",
              "      <td>0</td>\n",
              "      <td>0</td>\n",
              "      <td>0</td>\n",
              "      <td>0.0</td>\n",
              "      <td>5.0</td>\n",
              "      <td>1010</td>\n",
              "      <td>75.34</td>\n",
              "      <td>106.15</td>\n",
              "      <td>0.499</td>\n",
              "      <td>346.1</td>\n",
              "      <td>3.1</td>\n",
              "      <td>0</td>\n",
              "    </tr>\n",
              "    <tr>\n",
              "      <th>1</th>\n",
              "      <td>2009</td>\n",
              "      <td>1</td>\n",
              "      <td>1</td>\n",
              "      <td>0</td>\n",
              "      <td>30</td>\n",
              "      <td>0</td>\n",
              "      <td>0</td>\n",
              "      <td>0</td>\n",
              "      <td>0</td>\n",
              "      <td>1.0</td>\n",
              "      <td>5.0</td>\n",
              "      <td>1010</td>\n",
              "      <td>80.81</td>\n",
              "      <td>112.28</td>\n",
              "      <td>0.490</td>\n",
              "      <td>346.1</td>\n",
              "      <td>3.1</td>\n",
              "      <td>0</td>\n",
              "    </tr>\n",
              "    <tr>\n",
              "      <th>2</th>\n",
              "      <td>2009</td>\n",
              "      <td>1</td>\n",
              "      <td>1</td>\n",
              "      <td>1</td>\n",
              "      <td>0</td>\n",
              "      <td>0</td>\n",
              "      <td>0</td>\n",
              "      <td>0</td>\n",
              "      <td>4</td>\n",
              "      <td>0.0</td>\n",
              "      <td>5.0</td>\n",
              "      <td>1010</td>\n",
              "      <td>78.27</td>\n",
              "      <td>118.50</td>\n",
              "      <td>0.482</td>\n",
              "      <td>347.9</td>\n",
              "      <td>3.2</td>\n",
              "      <td>0</td>\n",
              "    </tr>\n",
              "    <tr>\n",
              "      <th>3</th>\n",
              "      <td>2009</td>\n",
              "      <td>1</td>\n",
              "      <td>1</td>\n",
              "      <td>1</td>\n",
              "      <td>30</td>\n",
              "      <td>0</td>\n",
              "      <td>0</td>\n",
              "      <td>0</td>\n",
              "      <td>4</td>\n",
              "      <td>0.0</td>\n",
              "      <td>4.0</td>\n",
              "      <td>1010</td>\n",
              "      <td>78.27</td>\n",
              "      <td>124.78</td>\n",
              "      <td>0.478</td>\n",
              "      <td>347.9</td>\n",
              "      <td>3.1</td>\n",
              "      <td>0</td>\n",
              "    </tr>\n",
              "    <tr>\n",
              "      <th>4</th>\n",
              "      <td>2009</td>\n",
              "      <td>1</td>\n",
              "      <td>1</td>\n",
              "      <td>2</td>\n",
              "      <td>0</td>\n",
              "      <td>0</td>\n",
              "      <td>0</td>\n",
              "      <td>0</td>\n",
              "      <td>4</td>\n",
              "      <td>0.0</td>\n",
              "      <td>4.0</td>\n",
              "      <td>1010</td>\n",
              "      <td>76.45</td>\n",
              "      <td>131.12</td>\n",
              "      <td>0.475</td>\n",
              "      <td>350.0</td>\n",
              "      <td>3.0</td>\n",
              "      <td>0</td>\n",
              "    </tr>\n",
              "  </tbody>\n",
              "</table>\n",
              "</div>\n",
              "      <button class=\"colab-df-convert\" onclick=\"convertToInteractive('df-7b1fbff1-d162-4b5c-a7ad-61ae8891894e')\"\n",
              "              title=\"Convert this dataframe to an interactive table.\"\n",
              "              style=\"display:none;\">\n",
              "        \n",
              "  <svg xmlns=\"http://www.w3.org/2000/svg\" height=\"24px\"viewBox=\"0 0 24 24\"\n",
              "       width=\"24px\">\n",
              "    <path d=\"M0 0h24v24H0V0z\" fill=\"none\"/>\n",
              "    <path d=\"M18.56 5.44l.94 2.06.94-2.06 2.06-.94-2.06-.94-.94-2.06-.94 2.06-2.06.94zm-11 1L8.5 8.5l.94-2.06 2.06-.94-2.06-.94L8.5 2.5l-.94 2.06-2.06.94zm10 10l.94 2.06.94-2.06 2.06-.94-2.06-.94-.94-2.06-.94 2.06-2.06.94z\"/><path d=\"M17.41 7.96l-1.37-1.37c-.4-.4-.92-.59-1.43-.59-.52 0-1.04.2-1.43.59L10.3 9.45l-7.72 7.72c-.78.78-.78 2.05 0 2.83L4 21.41c.39.39.9.59 1.41.59.51 0 1.02-.2 1.41-.59l7.78-7.78 2.81-2.81c.8-.78.8-2.07 0-2.86zM5.41 20L4 18.59l7.72-7.72 1.47 1.35L5.41 20z\"/>\n",
              "  </svg>\n",
              "      </button>\n",
              "      \n",
              "  <style>\n",
              "    .colab-df-container {\n",
              "      display:flex;\n",
              "      flex-wrap:wrap;\n",
              "      gap: 12px;\n",
              "    }\n",
              "\n",
              "    .colab-df-convert {\n",
              "      background-color: #E8F0FE;\n",
              "      border: none;\n",
              "      border-radius: 50%;\n",
              "      cursor: pointer;\n",
              "      display: none;\n",
              "      fill: #1967D2;\n",
              "      height: 32px;\n",
              "      padding: 0 0 0 0;\n",
              "      width: 32px;\n",
              "    }\n",
              "\n",
              "    .colab-df-convert:hover {\n",
              "      background-color: #E2EBFA;\n",
              "      box-shadow: 0px 1px 2px rgba(60, 64, 67, 0.3), 0px 1px 3px 1px rgba(60, 64, 67, 0.15);\n",
              "      fill: #174EA6;\n",
              "    }\n",
              "\n",
              "    [theme=dark] .colab-df-convert {\n",
              "      background-color: #3B4455;\n",
              "      fill: #D2E3FC;\n",
              "    }\n",
              "\n",
              "    [theme=dark] .colab-df-convert:hover {\n",
              "      background-color: #434B5C;\n",
              "      box-shadow: 0px 1px 3px 1px rgba(0, 0, 0, 0.15);\n",
              "      filter: drop-shadow(0px 1px 2px rgba(0, 0, 0, 0.3));\n",
              "      fill: #FFFFFF;\n",
              "    }\n",
              "  </style>\n",
              "\n",
              "      <script>\n",
              "        const buttonEl =\n",
              "          document.querySelector('#df-7b1fbff1-d162-4b5c-a7ad-61ae8891894e button.colab-df-convert');\n",
              "        buttonEl.style.display =\n",
              "          google.colab.kernel.accessAllowed ? 'block' : 'none';\n",
              "\n",
              "        async function convertToInteractive(key) {\n",
              "          const element = document.querySelector('#df-7b1fbff1-d162-4b5c-a7ad-61ae8891894e');\n",
              "          const dataTable =\n",
              "            await google.colab.kernel.invokeFunction('convertToInteractive',\n",
              "                                                     [key], {});\n",
              "          if (!dataTable) return;\n",
              "\n",
              "          const docLinkHtml = 'Like what you see? Visit the ' +\n",
              "            '<a target=\"_blank\" href=https://colab.research.google.com/notebooks/data_table.ipynb>data table notebook</a>'\n",
              "            + ' to learn more about interactive tables.';\n",
              "          element.innerHTML = '';\n",
              "          dataTable['output_type'] = 'display_data';\n",
              "          await google.colab.output.renderOutput(dataTable, element);\n",
              "          const docLink = document.createElement('div');\n",
              "          docLink.innerHTML = docLinkHtml;\n",
              "          element.appendChild(docLink);\n",
              "        }\n",
              "      </script>\n",
              "    </div>\n",
              "  </div>\n",
              "  "
            ],
            "text/plain": [
              "   Year  Month  Day  ...  Wind Direction  Wind Speed  Fill Flag\n",
              "0  2009      1    1  ...           346.1         3.1          0\n",
              "1  2009      1    1  ...           346.1         3.1          0\n",
              "2  2009      1    1  ...           347.9         3.2          0\n",
              "3  2009      1    1  ...           347.9         3.1          0\n",
              "4  2009      1    1  ...           350.0         3.0          0\n",
              "\n",
              "[5 rows x 18 columns]"
            ]
          },
          "metadata": {},
          "execution_count": 5
        }
      ]
    },
    {
      "cell_type": "code",
      "source": [
        "df_test = pd.read_csv(\"test.csv\")\n",
        "df_test.head()"
      ],
      "metadata": {
        "colab": {
          "base_uri": "https://localhost:8080/",
          "height": 267
        },
        "id": "sP_tHXFd6Tw0",
        "outputId": "668a311e-02f0-4f65-90e2-cc15f0dbbfde"
      },
      "execution_count": 6,
      "outputs": [
        {
          "output_type": "execute_result",
          "data": {
            "text/html": [
              "\n",
              "  <div id=\"df-97d8071b-be5f-481c-b929-9a4d0204473f\">\n",
              "    <div class=\"colab-df-container\">\n",
              "      <div>\n",
              "<style scoped>\n",
              "    .dataframe tbody tr th:only-of-type {\n",
              "        vertical-align: middle;\n",
              "    }\n",
              "\n",
              "    .dataframe tbody tr th {\n",
              "        vertical-align: top;\n",
              "    }\n",
              "\n",
              "    .dataframe thead th {\n",
              "        text-align: right;\n",
              "    }\n",
              "</style>\n",
              "<table border=\"1\" class=\"dataframe\">\n",
              "  <thead>\n",
              "    <tr style=\"text-align: right;\">\n",
              "      <th></th>\n",
              "      <th>Year</th>\n",
              "      <th>Month</th>\n",
              "      <th>Day</th>\n",
              "      <th>Hour</th>\n",
              "      <th>Minute</th>\n",
              "      <th>Cloud Type</th>\n",
              "      <th>Dew Point</th>\n",
              "      <th>Temperature</th>\n",
              "      <th>Pressure</th>\n",
              "      <th>Relative Humidity</th>\n",
              "      <th>Solar Zenith Angle</th>\n",
              "      <th>Precipitable Water</th>\n",
              "      <th>Wind Direction</th>\n",
              "      <th>Wind Speed</th>\n",
              "      <th>Fill Flag</th>\n",
              "      <th>Clearsky DHI</th>\n",
              "      <th>Clearsky DNI</th>\n",
              "      <th>Clearsky GHI</th>\n",
              "    </tr>\n",
              "  </thead>\n",
              "  <tbody>\n",
              "    <tr>\n",
              "      <th>0</th>\n",
              "      <td>2019</td>\n",
              "      <td>1</td>\n",
              "      <td>1</td>\n",
              "      <td>0</td>\n",
              "      <td>0</td>\n",
              "      <td>7</td>\n",
              "      <td>18.4</td>\n",
              "      <td>18.8</td>\n",
              "      <td>1008</td>\n",
              "      <td>97.70</td>\n",
              "      <td>106.23</td>\n",
              "      <td>3.5</td>\n",
              "      <td>190</td>\n",
              "      <td>2.3</td>\n",
              "      <td>0</td>\n",
              "      <td>NaN</td>\n",
              "      <td>NaN</td>\n",
              "      <td>NaN</td>\n",
              "    </tr>\n",
              "    <tr>\n",
              "      <th>1</th>\n",
              "      <td>2019</td>\n",
              "      <td>1</td>\n",
              "      <td>1</td>\n",
              "      <td>0</td>\n",
              "      <td>30</td>\n",
              "      <td>3</td>\n",
              "      <td>18.4</td>\n",
              "      <td>18.6</td>\n",
              "      <td>1008</td>\n",
              "      <td>98.92</td>\n",
              "      <td>112.36</td>\n",
              "      <td>3.5</td>\n",
              "      <td>187</td>\n",
              "      <td>2.5</td>\n",
              "      <td>0</td>\n",
              "      <td>NaN</td>\n",
              "      <td>NaN</td>\n",
              "      <td>NaN</td>\n",
              "    </tr>\n",
              "    <tr>\n",
              "      <th>2</th>\n",
              "      <td>2019</td>\n",
              "      <td>1</td>\n",
              "      <td>1</td>\n",
              "      <td>1</td>\n",
              "      <td>0</td>\n",
              "      <td>3</td>\n",
              "      <td>18.2</td>\n",
              "      <td>18.5</td>\n",
              "      <td>1008</td>\n",
              "      <td>98.35</td>\n",
              "      <td>118.58</td>\n",
              "      <td>3.5</td>\n",
              "      <td>184</td>\n",
              "      <td>2.8</td>\n",
              "      <td>0</td>\n",
              "      <td>NaN</td>\n",
              "      <td>NaN</td>\n",
              "      <td>NaN</td>\n",
              "    </tr>\n",
              "    <tr>\n",
              "      <th>3</th>\n",
              "      <td>2019</td>\n",
              "      <td>1</td>\n",
              "      <td>1</td>\n",
              "      <td>1</td>\n",
              "      <td>30</td>\n",
              "      <td>3</td>\n",
              "      <td>18.2</td>\n",
              "      <td>18.3</td>\n",
              "      <td>1008</td>\n",
              "      <td>99.58</td>\n",
              "      <td>124.86</td>\n",
              "      <td>3.5</td>\n",
              "      <td>185</td>\n",
              "      <td>3.0</td>\n",
              "      <td>0</td>\n",
              "      <td>NaN</td>\n",
              "      <td>NaN</td>\n",
              "      <td>NaN</td>\n",
              "    </tr>\n",
              "    <tr>\n",
              "      <th>4</th>\n",
              "      <td>2019</td>\n",
              "      <td>1</td>\n",
              "      <td>1</td>\n",
              "      <td>2</td>\n",
              "      <td>0</td>\n",
              "      <td>0</td>\n",
              "      <td>18.0</td>\n",
              "      <td>18.0</td>\n",
              "      <td>1008</td>\n",
              "      <td>99.71</td>\n",
              "      <td>131.20</td>\n",
              "      <td>3.6</td>\n",
              "      <td>186</td>\n",
              "      <td>3.1</td>\n",
              "      <td>0</td>\n",
              "      <td>NaN</td>\n",
              "      <td>NaN</td>\n",
              "      <td>NaN</td>\n",
              "    </tr>\n",
              "  </tbody>\n",
              "</table>\n",
              "</div>\n",
              "      <button class=\"colab-df-convert\" onclick=\"convertToInteractive('df-97d8071b-be5f-481c-b929-9a4d0204473f')\"\n",
              "              title=\"Convert this dataframe to an interactive table.\"\n",
              "              style=\"display:none;\">\n",
              "        \n",
              "  <svg xmlns=\"http://www.w3.org/2000/svg\" height=\"24px\"viewBox=\"0 0 24 24\"\n",
              "       width=\"24px\">\n",
              "    <path d=\"M0 0h24v24H0V0z\" fill=\"none\"/>\n",
              "    <path d=\"M18.56 5.44l.94 2.06.94-2.06 2.06-.94-2.06-.94-.94-2.06-.94 2.06-2.06.94zm-11 1L8.5 8.5l.94-2.06 2.06-.94-2.06-.94L8.5 2.5l-.94 2.06-2.06.94zm10 10l.94 2.06.94-2.06 2.06-.94-2.06-.94-.94-2.06-.94 2.06-2.06.94z\"/><path d=\"M17.41 7.96l-1.37-1.37c-.4-.4-.92-.59-1.43-.59-.52 0-1.04.2-1.43.59L10.3 9.45l-7.72 7.72c-.78.78-.78 2.05 0 2.83L4 21.41c.39.39.9.59 1.41.59.51 0 1.02-.2 1.41-.59l7.78-7.78 2.81-2.81c.8-.78.8-2.07 0-2.86zM5.41 20L4 18.59l7.72-7.72 1.47 1.35L5.41 20z\"/>\n",
              "  </svg>\n",
              "      </button>\n",
              "      \n",
              "  <style>\n",
              "    .colab-df-container {\n",
              "      display:flex;\n",
              "      flex-wrap:wrap;\n",
              "      gap: 12px;\n",
              "    }\n",
              "\n",
              "    .colab-df-convert {\n",
              "      background-color: #E8F0FE;\n",
              "      border: none;\n",
              "      border-radius: 50%;\n",
              "      cursor: pointer;\n",
              "      display: none;\n",
              "      fill: #1967D2;\n",
              "      height: 32px;\n",
              "      padding: 0 0 0 0;\n",
              "      width: 32px;\n",
              "    }\n",
              "\n",
              "    .colab-df-convert:hover {\n",
              "      background-color: #E2EBFA;\n",
              "      box-shadow: 0px 1px 2px rgba(60, 64, 67, 0.3), 0px 1px 3px 1px rgba(60, 64, 67, 0.15);\n",
              "      fill: #174EA6;\n",
              "    }\n",
              "\n",
              "    [theme=dark] .colab-df-convert {\n",
              "      background-color: #3B4455;\n",
              "      fill: #D2E3FC;\n",
              "    }\n",
              "\n",
              "    [theme=dark] .colab-df-convert:hover {\n",
              "      background-color: #434B5C;\n",
              "      box-shadow: 0px 1px 3px 1px rgba(0, 0, 0, 0.15);\n",
              "      filter: drop-shadow(0px 1px 2px rgba(0, 0, 0, 0.3));\n",
              "      fill: #FFFFFF;\n",
              "    }\n",
              "  </style>\n",
              "\n",
              "      <script>\n",
              "        const buttonEl =\n",
              "          document.querySelector('#df-97d8071b-be5f-481c-b929-9a4d0204473f button.colab-df-convert');\n",
              "        buttonEl.style.display =\n",
              "          google.colab.kernel.accessAllowed ? 'block' : 'none';\n",
              "\n",
              "        async function convertToInteractive(key) {\n",
              "          const element = document.querySelector('#df-97d8071b-be5f-481c-b929-9a4d0204473f');\n",
              "          const dataTable =\n",
              "            await google.colab.kernel.invokeFunction('convertToInteractive',\n",
              "                                                     [key], {});\n",
              "          if (!dataTable) return;\n",
              "\n",
              "          const docLinkHtml = 'Like what you see? Visit the ' +\n",
              "            '<a target=\"_blank\" href=https://colab.research.google.com/notebooks/data_table.ipynb>data table notebook</a>'\n",
              "            + ' to learn more about interactive tables.';\n",
              "          element.innerHTML = '';\n",
              "          dataTable['output_type'] = 'display_data';\n",
              "          await google.colab.output.renderOutput(dataTable, element);\n",
              "          const docLink = document.createElement('div');\n",
              "          docLink.innerHTML = docLinkHtml;\n",
              "          element.appendChild(docLink);\n",
              "        }\n",
              "      </script>\n",
              "    </div>\n",
              "  </div>\n",
              "  "
            ],
            "text/plain": [
              "   Year  Month  Day  Hour  ...  Fill Flag  Clearsky DHI  Clearsky DNI  Clearsky GHI\n",
              "0  2019      1    1     0  ...          0           NaN           NaN           NaN\n",
              "1  2019      1    1     0  ...          0           NaN           NaN           NaN\n",
              "2  2019      1    1     1  ...          0           NaN           NaN           NaN\n",
              "3  2019      1    1     1  ...          0           NaN           NaN           NaN\n",
              "4  2019      1    1     2  ...          0           NaN           NaN           NaN\n",
              "\n",
              "[5 rows x 18 columns]"
            ]
          },
          "metadata": {},
          "execution_count": 6
        }
      ]
    },
    {
      "cell_type": "code",
      "source": [
        "df_train.columns"
      ],
      "metadata": {
        "colab": {
          "base_uri": "https://localhost:8080/"
        },
        "id": "Z86SrItIhFdt",
        "outputId": "c40cf5b4-7d5b-4245-b0d1-0abf7c12fbcf"
      },
      "execution_count": 7,
      "outputs": [
        {
          "output_type": "execute_result",
          "data": {
            "text/plain": [
              "Index(['Year', 'Month', 'Day', 'Hour', 'Minute', 'Clearsky DHI',\n",
              "       'Clearsky DNI', 'Clearsky GHI', 'Cloud Type', 'Dew Point',\n",
              "       'Temperature', 'Pressure', 'Relative Humidity', 'Solar Zenith Angle',\n",
              "       'Precipitable Water', 'Wind Direction', 'Wind Speed', 'Fill Flag'],\n",
              "      dtype='object')"
            ]
          },
          "metadata": {},
          "execution_count": 7
        }
      ]
    },
    {
      "cell_type": "code",
      "source": [
        "X_cols=['Year', 'Month', 'Day', 'Hour', 'Minute','Cloud Type', 'Dew Point',\n",
        "       'Temperature', 'Pressure', 'Relative Humidity', 'Solar Zenith Angle',\n",
        "       'Precipitable Water', 'Wind Direction', 'Wind Speed', 'Fill Flag']\n",
        "y_cols = ['Clearsky DHI', 'Clearsky DNI', 'Clearsky GHI']"
      ],
      "metadata": {
        "id": "nwNiDV7JiIbW"
      },
      "execution_count": 8,
      "outputs": []
    },
    {
      "cell_type": "code",
      "source": [
        "X_nmpy =  df_train[X_cols].to_numpy()\n",
        "y_nmpy =  df_train[y_cols].to_numpy()"
      ],
      "metadata": {
        "id": "0vpUAZNelMWr"
      },
      "execution_count": 9,
      "outputs": []
    },
    {
      "cell_type": "code",
      "source": [
        "X_test_nmpy = df_test[X_cols].to_numpy()\n",
        "y_test_nmpy = df_test[y_cols].to_numpy()"
      ],
      "metadata": {
        "id": "QmS1QHRJ6d0X"
      },
      "execution_count": 10,
      "outputs": []
    },
    {
      "cell_type": "code",
      "source": [
        "X_train_full, X_test, y_train_full, y_test = train_test_split(X_nmpy, y_nmpy,test_size=0.2)\n",
        "X_train, X_valid, y_train, y_valid = train_test_split(X_train_full, y_train_full,test_size=0.2)"
      ],
      "metadata": {
        "id": "Q7cqINgcFqmB"
      },
      "execution_count": 22,
      "outputs": []
    },
    {
      "cell_type": "code",
      "source": [
        "print(X_nmpy.shape[0])\n",
        "print(X_train_full.shape[0])\n",
        "print(X_test.shape[0])\n",
        "print(X_train.shape[0])\n",
        "print(X_valid.shape[0])"
      ],
      "metadata": {
        "colab": {
          "base_uri": "https://localhost:8080/"
        },
        "id": "8gvcKnUyF-B7",
        "outputId": "8d5e69bb-8957-4d7d-f626-5e948df88180"
      },
      "execution_count": 23,
      "outputs": [
        {
          "output_type": "stream",
          "name": "stdout",
          "text": [
            "175296\n",
            "140236\n",
            "35060\n",
            "112188\n",
            "28048\n"
          ]
        }
      ]
    },
    {
      "cell_type": "code",
      "source": [
        "from numpy import mean\n",
        "from numpy import std\n",
        "from sklearn.datasets import make_regression\n",
        "from sklearn.model_selection import RepeatedKFold\n",
        "from keras.models import Sequential\n",
        "from keras.layers import Dense\n",
        "from keras.callbacks import ModelCheckpoint,EarlyStopping"
      ],
      "metadata": {
        "id": "cS4fFdxekMZJ"
      },
      "execution_count": 39,
      "outputs": []
    },
    {
      "cell_type": "code",
      "source": [
        "# get the model\n",
        "def get_model(n_inputs, n_outputs):\n",
        "\tmodel = Sequential([\n",
        "\t Dense(600, input_dim=n_inputs, activation='relu'),\n",
        "\t Dense(300, activation='relu'),\n",
        "\t Dense(150, activation='relu'),\n",
        "\t Dense(n_outputs)\n",
        "  ])\n",
        "\tmodel.compile(loss='mean_squared_error', optimizer='adam')\n",
        "\treturn model"
      ],
      "metadata": {
        "id": "fRtcdLSLiRUA"
      },
      "execution_count": 40,
      "outputs": []
    },
    {
      "cell_type": "code",
      "source": [
        "n_inputs, n_outputs = X_train.shape[1], y_train.shape[1]\n",
        "model = get_model(n_inputs, n_outputs)\n",
        "#set checkpoints\n",
        "chkpoint_cb = ModelCheckpoint(\"model_submission_9_1.h5\",save_best_only=True)\n",
        "early_stopping_cb = EarlyStopping(patience=25,restore_best_weights=True)\n",
        "# fit model\n",
        "history = model.fit(X_train, y_train, epochs=150,batch_size=128, validation_data=(X_valid, y_valid),\n",
        "                    callbacks=[chkpoint_cb,early_stopping_cb])\n",
        "# evaluate model on test set\n",
        "mse_test = model.evaluate(X_test, y_test)"
      ],
      "metadata": {
        "id": "Z6WsxnRz5ZnF",
        "colab": {
          "base_uri": "https://localhost:8080/"
        },
        "outputId": "94ae521b-867e-4eab-c4e2-4e239829c4ea"
      },
      "execution_count": 50,
      "outputs": [
        {
          "output_type": "stream",
          "name": "stdout",
          "text": [
            "Epoch 1/150\n",
            "877/877 [==============================] - 10s 11ms/step - loss: 8140.7046 - val_loss: 1315.2906\n",
            "Epoch 2/150\n",
            "877/877 [==============================] - 14s 16ms/step - loss: 1291.8497 - val_loss: 1049.9086\n",
            "Epoch 3/150\n",
            "877/877 [==============================] - 13s 14ms/step - loss: 1183.5558 - val_loss: 1152.0447\n",
            "Epoch 4/150\n",
            "877/877 [==============================] - 9s 11ms/step - loss: 1068.0121 - val_loss: 974.0836\n",
            "Epoch 5/150\n",
            "877/877 [==============================] - 9s 11ms/step - loss: 1073.6600 - val_loss: 1065.2046\n",
            "Epoch 6/150\n",
            "877/877 [==============================] - 11s 13ms/step - loss: 1017.9080 - val_loss: 1924.7032\n",
            "Epoch 7/150\n",
            "877/877 [==============================] - 9s 11ms/step - loss: 1016.2992 - val_loss: 1280.3770\n",
            "Epoch 8/150\n",
            "877/877 [==============================] - 10s 11ms/step - loss: 962.6777 - val_loss: 1900.5481\n",
            "Epoch 9/150\n",
            "877/877 [==============================] - 10s 12ms/step - loss: 932.4247 - val_loss: 966.1346\n",
            "Epoch 10/150\n",
            "877/877 [==============================] - 10s 12ms/step - loss: 941.2003 - val_loss: 901.6029\n",
            "Epoch 11/150\n",
            "877/877 [==============================] - 11s 12ms/step - loss: 936.6069 - val_loss: 904.2535\n",
            "Epoch 12/150\n",
            "877/877 [==============================] - 10s 11ms/step - loss: 875.2373 - val_loss: 877.7626\n",
            "Epoch 13/150\n",
            "877/877 [==============================] - 11s 13ms/step - loss: 879.6685 - val_loss: 781.2898\n",
            "Epoch 14/150\n",
            "877/877 [==============================] - 10s 11ms/step - loss: 839.9944 - val_loss: 1029.1190\n",
            "Epoch 15/150\n",
            "877/877 [==============================] - 10s 11ms/step - loss: 824.8067 - val_loss: 823.9182\n",
            "Epoch 16/150\n",
            "877/877 [==============================] - 10s 12ms/step - loss: 820.4746 - val_loss: 782.5972\n",
            "Epoch 17/150\n",
            "877/877 [==============================] - 9s 11ms/step - loss: 814.4210 - val_loss: 720.6039\n",
            "Epoch 18/150\n",
            "877/877 [==============================] - 10s 11ms/step - loss: 745.7225 - val_loss: 700.4936\n",
            "Epoch 19/150\n",
            "877/877 [==============================] - 10s 11ms/step - loss: 740.5487 - val_loss: 651.6538\n",
            "Epoch 20/150\n",
            "877/877 [==============================] - 10s 11ms/step - loss: 728.7643 - val_loss: 644.3747\n",
            "Epoch 21/150\n",
            "877/877 [==============================] - 9s 11ms/step - loss: 712.2005 - val_loss: 659.2631\n",
            "Epoch 22/150\n",
            "877/877 [==============================] - 10s 12ms/step - loss: 695.4231 - val_loss: 993.0410\n",
            "Epoch 23/150\n",
            "877/877 [==============================] - 8s 9ms/step - loss: 691.9619 - val_loss: 630.5573\n",
            "Epoch 24/150\n",
            "877/877 [==============================] - 9s 11ms/step - loss: 683.9923 - val_loss: 638.9919\n",
            "Epoch 25/150\n",
            "877/877 [==============================] - 10s 11ms/step - loss: 683.8301 - val_loss: 893.5474\n",
            "Epoch 26/150\n",
            "877/877 [==============================] - 9s 10ms/step - loss: 684.3549 - val_loss: 636.9991\n",
            "Epoch 27/150\n",
            "877/877 [==============================] - 9s 11ms/step - loss: 693.7028 - val_loss: 821.7670\n",
            "Epoch 28/150\n",
            "877/877 [==============================] - 10s 11ms/step - loss: 671.9482 - val_loss: 614.3910\n",
            "Epoch 29/150\n",
            "877/877 [==============================] - 10s 11ms/step - loss: 681.3031 - val_loss: 657.9786\n",
            "Epoch 30/150\n",
            "877/877 [==============================] - 10s 11ms/step - loss: 675.3621 - val_loss: 790.1359\n",
            "Epoch 31/150\n",
            "877/877 [==============================] - 9s 10ms/step - loss: 673.6794 - val_loss: 659.2326\n",
            "Epoch 32/150\n",
            "877/877 [==============================] - 10s 12ms/step - loss: 668.8340 - val_loss: 793.0863\n",
            "Epoch 33/150\n",
            "877/877 [==============================] - 9s 10ms/step - loss: 664.0925 - val_loss: 808.2514\n",
            "Epoch 34/150\n",
            "877/877 [==============================] - 10s 12ms/step - loss: 683.2618 - val_loss: 707.6992\n",
            "Epoch 35/150\n",
            "877/877 [==============================] - 10s 11ms/step - loss: 651.1379 - val_loss: 773.2589\n",
            "Epoch 36/150\n",
            "877/877 [==============================] - 8s 9ms/step - loss: 653.1786 - val_loss: 689.8348\n",
            "Epoch 37/150\n",
            "877/877 [==============================] - 10s 11ms/step - loss: 654.4991 - val_loss: 616.2963\n",
            "Epoch 38/150\n",
            "877/877 [==============================] - 9s 10ms/step - loss: 649.7411 - val_loss: 648.9813\n",
            "Epoch 39/150\n",
            "877/877 [==============================] - 9s 10ms/step - loss: 646.5320 - val_loss: 746.1635\n",
            "Epoch 40/150\n",
            "877/877 [==============================] - 9s 10ms/step - loss: 640.2669 - val_loss: 612.9177\n",
            "Epoch 41/150\n",
            "877/877 [==============================] - 9s 10ms/step - loss: 642.0733 - val_loss: 606.1383\n",
            "Epoch 42/150\n",
            "877/877 [==============================] - 10s 11ms/step - loss: 639.5914 - val_loss: 943.0806\n",
            "Epoch 43/150\n",
            "877/877 [==============================] - 10s 12ms/step - loss: 649.3773 - val_loss: 632.6579\n",
            "Epoch 44/150\n",
            "877/877 [==============================] - 10s 11ms/step - loss: 645.3807 - val_loss: 618.1077\n",
            "Epoch 45/150\n",
            "877/877 [==============================] - 9s 10ms/step - loss: 637.1457 - val_loss: 732.8118\n",
            "Epoch 46/150\n",
            "877/877 [==============================] - 9s 10ms/step - loss: 646.6841 - val_loss: 782.9674\n",
            "Epoch 47/150\n",
            "877/877 [==============================] - 9s 10ms/step - loss: 631.2133 - val_loss: 669.8610\n",
            "Epoch 48/150\n",
            "877/877 [==============================] - 9s 10ms/step - loss: 640.8104 - val_loss: 601.4571\n",
            "Epoch 49/150\n",
            "877/877 [==============================] - 9s 11ms/step - loss: 628.8908 - val_loss: 1044.2793\n",
            "Epoch 50/150\n",
            "877/877 [==============================] - 10s 11ms/step - loss: 636.4223 - val_loss: 641.2587\n",
            "Epoch 51/150\n",
            "877/877 [==============================] - 10s 11ms/step - loss: 624.8893 - val_loss: 704.2495\n",
            "Epoch 52/150\n",
            "877/877 [==============================] - 10s 11ms/step - loss: 637.8745 - val_loss: 603.1467\n",
            "Epoch 53/150\n",
            "877/877 [==============================] - 10s 11ms/step - loss: 618.4716 - val_loss: 798.7001\n",
            "Epoch 54/150\n",
            "877/877 [==============================] - 9s 11ms/step - loss: 630.8921 - val_loss: 618.4815\n",
            "Epoch 55/150\n",
            "877/877 [==============================] - 9s 11ms/step - loss: 627.3230 - val_loss: 677.9069\n",
            "Epoch 56/150\n",
            "877/877 [==============================] - 9s 11ms/step - loss: 609.9825 - val_loss: 668.2944\n",
            "Epoch 57/150\n",
            "877/877 [==============================] - 10s 12ms/step - loss: 626.8710 - val_loss: 640.4673\n",
            "Epoch 58/150\n",
            "877/877 [==============================] - 10s 11ms/step - loss: 626.2948 - val_loss: 745.2292\n",
            "Epoch 59/150\n",
            "877/877 [==============================] - 9s 11ms/step - loss: 625.5696 - val_loss: 654.5313\n",
            "Epoch 60/150\n",
            "877/877 [==============================] - 9s 11ms/step - loss: 610.4780 - val_loss: 639.2139\n",
            "Epoch 61/150\n",
            "877/877 [==============================] - 9s 10ms/step - loss: 624.2886 - val_loss: 692.8184\n",
            "Epoch 62/150\n",
            "877/877 [==============================] - 10s 11ms/step - loss: 610.1924 - val_loss: 631.0754\n",
            "Epoch 63/150\n",
            "877/877 [==============================] - 10s 12ms/step - loss: 615.4645 - val_loss: 710.0640\n",
            "Epoch 64/150\n",
            "877/877 [==============================] - 10s 11ms/step - loss: 602.7370 - val_loss: 671.5129\n",
            "Epoch 65/150\n",
            "877/877 [==============================] - 10s 11ms/step - loss: 614.4517 - val_loss: 600.7284\n",
            "Epoch 66/150\n",
            "877/877 [==============================] - 10s 11ms/step - loss: 607.3365 - val_loss: 610.3113\n",
            "Epoch 67/150\n",
            "877/877 [==============================] - 11s 12ms/step - loss: 609.0927 - val_loss: 647.3965\n",
            "Epoch 68/150\n",
            "877/877 [==============================] - 10s 12ms/step - loss: 615.8691 - val_loss: 579.8047\n",
            "Epoch 69/150\n",
            "877/877 [==============================] - 11s 12ms/step - loss: 608.9962 - val_loss: 601.6643\n",
            "Epoch 70/150\n",
            "877/877 [==============================] - 10s 12ms/step - loss: 605.4048 - val_loss: 583.0240\n",
            "Epoch 71/150\n",
            "877/877 [==============================] - 9s 10ms/step - loss: 605.5280 - val_loss: 595.1729\n",
            "Epoch 72/150\n",
            "877/877 [==============================] - 10s 12ms/step - loss: 597.4069 - val_loss: 568.6802\n",
            "Epoch 73/150\n",
            "877/877 [==============================] - 10s 12ms/step - loss: 599.5717 - val_loss: 672.6429\n",
            "Epoch 74/150\n",
            "877/877 [==============================] - 10s 11ms/step - loss: 592.3415 - val_loss: 590.4040\n",
            "Epoch 75/150\n",
            "877/877 [==============================] - 9s 11ms/step - loss: 609.3802 - val_loss: 980.1428\n",
            "Epoch 76/150\n",
            "877/877 [==============================] - 11s 12ms/step - loss: 598.9648 - val_loss: 658.0607\n",
            "Epoch 77/150\n",
            "877/877 [==============================] - 10s 12ms/step - loss: 595.0589 - val_loss: 675.5571\n",
            "Epoch 78/150\n",
            "877/877 [==============================] - 10s 11ms/step - loss: 592.5288 - val_loss: 688.4579\n",
            "Epoch 79/150\n",
            "877/877 [==============================] - 10s 11ms/step - loss: 597.5817 - val_loss: 631.2470\n",
            "Epoch 80/150\n",
            "877/877 [==============================] - 9s 10ms/step - loss: 603.0454 - val_loss: 589.0762\n",
            "Epoch 81/150\n",
            "877/877 [==============================] - 9s 11ms/step - loss: 578.0640 - val_loss: 643.1089\n",
            "Epoch 82/150\n",
            "877/877 [==============================] - 9s 10ms/step - loss: 591.6157 - val_loss: 581.6886\n",
            "Epoch 83/150\n",
            "877/877 [==============================] - 8s 9ms/step - loss: 587.8191 - val_loss: 562.4694\n",
            "Epoch 84/150\n",
            "877/877 [==============================] - 9s 10ms/step - loss: 590.5536 - val_loss: 645.3078\n",
            "Epoch 85/150\n",
            "877/877 [==============================] - 9s 11ms/step - loss: 584.5120 - val_loss: 712.7302\n",
            "Epoch 86/150\n",
            "877/877 [==============================] - 10s 11ms/step - loss: 593.6943 - val_loss: 567.4384\n",
            "Epoch 87/150\n",
            "877/877 [==============================] - 9s 11ms/step - loss: 588.7745 - val_loss: 616.3286\n",
            "Epoch 88/150\n",
            "877/877 [==============================] - 10s 11ms/step - loss: 584.6747 - val_loss: 567.2809\n",
            "Epoch 89/150\n",
            "877/877 [==============================] - 8s 9ms/step - loss: 587.7064 - val_loss: 720.2411\n",
            "Epoch 90/150\n",
            "877/877 [==============================] - 8s 9ms/step - loss: 584.5775 - val_loss: 577.0938\n",
            "Epoch 91/150\n",
            "877/877 [==============================] - 8s 9ms/step - loss: 580.5348 - val_loss: 600.0371\n",
            "Epoch 92/150\n",
            "877/877 [==============================] - 9s 11ms/step - loss: 578.8701 - val_loss: 690.6619\n",
            "Epoch 93/150\n",
            "877/877 [==============================] - 8s 9ms/step - loss: 588.9398 - val_loss: 563.6018\n",
            "Epoch 94/150\n",
            "877/877 [==============================] - 8s 9ms/step - loss: 580.2950 - val_loss: 575.8970\n",
            "Epoch 95/150\n",
            "877/877 [==============================] - 8s 9ms/step - loss: 576.0829 - val_loss: 628.4281\n",
            "Epoch 96/150\n",
            "877/877 [==============================] - 8s 9ms/step - loss: 580.5256 - val_loss: 562.0807\n",
            "Epoch 97/150\n",
            "877/877 [==============================] - 8s 9ms/step - loss: 587.6144 - val_loss: 576.4088\n",
            "Epoch 98/150\n",
            "877/877 [==============================] - 8s 9ms/step - loss: 571.4664 - val_loss: 549.1770\n",
            "Epoch 99/150\n",
            "877/877 [==============================] - 8s 9ms/step - loss: 577.7562 - val_loss: 592.2596\n",
            "Epoch 100/150\n",
            "877/877 [==============================] - 8s 9ms/step - loss: 585.7311 - val_loss: 730.3326\n",
            "Epoch 101/150\n",
            "877/877 [==============================] - 8s 9ms/step - loss: 577.5648 - val_loss: 545.1277\n",
            "Epoch 102/150\n",
            "877/877 [==============================] - 8s 10ms/step - loss: 571.2466 - val_loss: 573.0461\n",
            "Epoch 103/150\n",
            "877/877 [==============================] - 8s 9ms/step - loss: 572.3163 - val_loss: 583.8542\n",
            "Epoch 104/150\n",
            "877/877 [==============================] - 8s 9ms/step - loss: 577.9869 - val_loss: 575.7902\n",
            "Epoch 105/150\n",
            "877/877 [==============================] - 8s 9ms/step - loss: 570.1282 - val_loss: 664.3318\n",
            "Epoch 106/150\n",
            "877/877 [==============================] - 8s 9ms/step - loss: 568.9100 - val_loss: 570.7585\n",
            "Epoch 107/150\n",
            "877/877 [==============================] - 8s 9ms/step - loss: 568.9880 - val_loss: 615.0156\n",
            "Epoch 108/150\n",
            "877/877 [==============================] - 8s 10ms/step - loss: 571.1427 - val_loss: 568.7770\n",
            "Epoch 109/150\n",
            "877/877 [==============================] - 8s 9ms/step - loss: 560.3324 - val_loss: 671.7311\n",
            "Epoch 110/150\n",
            "877/877 [==============================] - 8s 9ms/step - loss: 574.6647 - val_loss: 587.9385\n",
            "Epoch 111/150\n",
            "877/877 [==============================] - 8s 9ms/step - loss: 562.3591 - val_loss: 605.1149\n",
            "Epoch 112/150\n",
            "877/877 [==============================] - 8s 9ms/step - loss: 573.7382 - val_loss: 652.9167\n",
            "Epoch 113/150\n",
            "877/877 [==============================] - 8s 9ms/step - loss: 564.2638 - val_loss: 565.9393\n",
            "Epoch 114/150\n",
            "877/877 [==============================] - 8s 9ms/step - loss: 566.4423 - val_loss: 573.2677\n",
            "Epoch 115/150\n",
            "877/877 [==============================] - 8s 9ms/step - loss: 567.1119 - val_loss: 593.0449\n",
            "Epoch 116/150\n",
            "877/877 [==============================] - 8s 9ms/step - loss: 562.8705 - val_loss: 577.8614\n",
            "Epoch 117/150\n",
            "877/877 [==============================] - 8s 9ms/step - loss: 562.8521 - val_loss: 579.3563\n",
            "Epoch 118/150\n",
            "877/877 [==============================] - 8s 9ms/step - loss: 560.9024 - val_loss: 553.2119\n",
            "Epoch 119/150\n",
            "877/877 [==============================] - 8s 9ms/step - loss: 560.8257 - val_loss: 559.3895\n",
            "Epoch 120/150\n",
            "877/877 [==============================] - 8s 9ms/step - loss: 559.1269 - val_loss: 574.5721\n",
            "Epoch 121/150\n",
            "877/877 [==============================] - 8s 9ms/step - loss: 565.3317 - val_loss: 566.8240\n",
            "Epoch 122/150\n",
            "877/877 [==============================] - 8s 9ms/step - loss: 564.5358 - val_loss: 620.6530\n",
            "Epoch 123/150\n",
            "877/877 [==============================] - 8s 9ms/step - loss: 553.8779 - val_loss: 565.3033\n",
            "Epoch 124/150\n",
            "877/877 [==============================] - 8s 9ms/step - loss: 567.0372 - val_loss: 556.4928\n",
            "Epoch 125/150\n",
            "877/877 [==============================] - 8s 9ms/step - loss: 561.5892 - val_loss: 552.7256\n",
            "Epoch 126/150\n",
            "877/877 [==============================] - 8s 9ms/step - loss: 553.1232 - val_loss: 995.0762\n",
            "1096/1096 [==============================] - 2s 2ms/step - loss: 553.8306\n"
          ]
        }
      ]
    },
    {
      "cell_type": "code",
      "source": [
        "mse_test"
      ],
      "metadata": {
        "colab": {
          "base_uri": "https://localhost:8080/"
        },
        "id": "jH5xq4h-IM10",
        "outputId": "1c2151ee-f1ba-4a74-9cdf-92bad103bdf5"
      },
      "execution_count": 51,
      "outputs": [
        {
          "output_type": "execute_result",
          "data": {
            "text/plain": [
              "553.83056640625"
            ]
          },
          "metadata": {},
          "execution_count": 51
        }
      ]
    },
    {
      "cell_type": "code",
      "source": [
        "#save model\n",
        "#model.save(\"model_submission_9_1.h5\")"
      ],
      "metadata": {
        "id": "DIqCfl4h-V8_"
      },
      "execution_count": 29,
      "outputs": []
    },
    {
      "cell_type": "code",
      "source": [
        "from keras.saving.save import load_model\n",
        "model_best = load_model(\"model_submission_9_1.h5\")"
      ],
      "metadata": {
        "id": "83nLH9jjOdBi"
      },
      "execution_count": 52,
      "outputs": []
    },
    {
      "cell_type": "code",
      "source": [
        "yhat = model_best.predict(X_test_nmpy)"
      ],
      "metadata": {
        "id": "hB-OGF4FkwwL"
      },
      "execution_count": 53,
      "outputs": []
    },
    {
      "cell_type": "code",
      "source": [
        "df_submission = pd.DataFrame(yhat, columns = y_cols)"
      ],
      "metadata": {
        "id": "aHmYbkX170zy"
      },
      "execution_count": 54,
      "outputs": []
    },
    {
      "cell_type": "code",
      "source": [
        "df_submission.head()"
      ],
      "metadata": {
        "id": "TD0jhk278M4l",
        "colab": {
          "base_uri": "https://localhost:8080/",
          "height": 206
        },
        "outputId": "aa3e7f9b-9f83-4235-f2a7-35b0bdbfa6a2"
      },
      "execution_count": 32,
      "outputs": [
        {
          "output_type": "execute_result",
          "data": {
            "text/html": [
              "\n",
              "  <div id=\"df-df090f93-c960-4d34-85b8-c86de3387f18\">\n",
              "    <div class=\"colab-df-container\">\n",
              "      <div>\n",
              "<style scoped>\n",
              "    .dataframe tbody tr th:only-of-type {\n",
              "        vertical-align: middle;\n",
              "    }\n",
              "\n",
              "    .dataframe tbody tr th {\n",
              "        vertical-align: top;\n",
              "    }\n",
              "\n",
              "    .dataframe thead th {\n",
              "        text-align: right;\n",
              "    }\n",
              "</style>\n",
              "<table border=\"1\" class=\"dataframe\">\n",
              "  <thead>\n",
              "    <tr style=\"text-align: right;\">\n",
              "      <th></th>\n",
              "      <th>Clearsky DHI</th>\n",
              "      <th>Clearsky DNI</th>\n",
              "      <th>Clearsky GHI</th>\n",
              "    </tr>\n",
              "  </thead>\n",
              "  <tbody>\n",
              "    <tr>\n",
              "      <th>0</th>\n",
              "      <td>-0.256608</td>\n",
              "      <td>0.167621</td>\n",
              "      <td>-1.134570</td>\n",
              "    </tr>\n",
              "    <tr>\n",
              "      <th>1</th>\n",
              "      <td>-1.598443</td>\n",
              "      <td>-0.152085</td>\n",
              "      <td>-2.806393</td>\n",
              "    </tr>\n",
              "    <tr>\n",
              "      <th>2</th>\n",
              "      <td>0.071571</td>\n",
              "      <td>-0.070461</td>\n",
              "      <td>0.015488</td>\n",
              "    </tr>\n",
              "    <tr>\n",
              "      <th>3</th>\n",
              "      <td>0.083924</td>\n",
              "      <td>-0.059860</td>\n",
              "      <td>0.056938</td>\n",
              "    </tr>\n",
              "    <tr>\n",
              "      <th>4</th>\n",
              "      <td>0.085485</td>\n",
              "      <td>-0.058521</td>\n",
              "      <td>0.062178</td>\n",
              "    </tr>\n",
              "  </tbody>\n",
              "</table>\n",
              "</div>\n",
              "      <button class=\"colab-df-convert\" onclick=\"convertToInteractive('df-df090f93-c960-4d34-85b8-c86de3387f18')\"\n",
              "              title=\"Convert this dataframe to an interactive table.\"\n",
              "              style=\"display:none;\">\n",
              "        \n",
              "  <svg xmlns=\"http://www.w3.org/2000/svg\" height=\"24px\"viewBox=\"0 0 24 24\"\n",
              "       width=\"24px\">\n",
              "    <path d=\"M0 0h24v24H0V0z\" fill=\"none\"/>\n",
              "    <path d=\"M18.56 5.44l.94 2.06.94-2.06 2.06-.94-2.06-.94-.94-2.06-.94 2.06-2.06.94zm-11 1L8.5 8.5l.94-2.06 2.06-.94-2.06-.94L8.5 2.5l-.94 2.06-2.06.94zm10 10l.94 2.06.94-2.06 2.06-.94-2.06-.94-.94-2.06-.94 2.06-2.06.94z\"/><path d=\"M17.41 7.96l-1.37-1.37c-.4-.4-.92-.59-1.43-.59-.52 0-1.04.2-1.43.59L10.3 9.45l-7.72 7.72c-.78.78-.78 2.05 0 2.83L4 21.41c.39.39.9.59 1.41.59.51 0 1.02-.2 1.41-.59l7.78-7.78 2.81-2.81c.8-.78.8-2.07 0-2.86zM5.41 20L4 18.59l7.72-7.72 1.47 1.35L5.41 20z\"/>\n",
              "  </svg>\n",
              "      </button>\n",
              "      \n",
              "  <style>\n",
              "    .colab-df-container {\n",
              "      display:flex;\n",
              "      flex-wrap:wrap;\n",
              "      gap: 12px;\n",
              "    }\n",
              "\n",
              "    .colab-df-convert {\n",
              "      background-color: #E8F0FE;\n",
              "      border: none;\n",
              "      border-radius: 50%;\n",
              "      cursor: pointer;\n",
              "      display: none;\n",
              "      fill: #1967D2;\n",
              "      height: 32px;\n",
              "      padding: 0 0 0 0;\n",
              "      width: 32px;\n",
              "    }\n",
              "\n",
              "    .colab-df-convert:hover {\n",
              "      background-color: #E2EBFA;\n",
              "      box-shadow: 0px 1px 2px rgba(60, 64, 67, 0.3), 0px 1px 3px 1px rgba(60, 64, 67, 0.15);\n",
              "      fill: #174EA6;\n",
              "    }\n",
              "\n",
              "    [theme=dark] .colab-df-convert {\n",
              "      background-color: #3B4455;\n",
              "      fill: #D2E3FC;\n",
              "    }\n",
              "\n",
              "    [theme=dark] .colab-df-convert:hover {\n",
              "      background-color: #434B5C;\n",
              "      box-shadow: 0px 1px 3px 1px rgba(0, 0, 0, 0.15);\n",
              "      filter: drop-shadow(0px 1px 2px rgba(0, 0, 0, 0.3));\n",
              "      fill: #FFFFFF;\n",
              "    }\n",
              "  </style>\n",
              "\n",
              "      <script>\n",
              "        const buttonEl =\n",
              "          document.querySelector('#df-df090f93-c960-4d34-85b8-c86de3387f18 button.colab-df-convert');\n",
              "        buttonEl.style.display =\n",
              "          google.colab.kernel.accessAllowed ? 'block' : 'none';\n",
              "\n",
              "        async function convertToInteractive(key) {\n",
              "          const element = document.querySelector('#df-df090f93-c960-4d34-85b8-c86de3387f18');\n",
              "          const dataTable =\n",
              "            await google.colab.kernel.invokeFunction('convertToInteractive',\n",
              "                                                     [key], {});\n",
              "          if (!dataTable) return;\n",
              "\n",
              "          const docLinkHtml = 'Like what you see? Visit the ' +\n",
              "            '<a target=\"_blank\" href=https://colab.research.google.com/notebooks/data_table.ipynb>data table notebook</a>'\n",
              "            + ' to learn more about interactive tables.';\n",
              "          element.innerHTML = '';\n",
              "          dataTable['output_type'] = 'display_data';\n",
              "          await google.colab.output.renderOutput(dataTable, element);\n",
              "          const docLink = document.createElement('div');\n",
              "          docLink.innerHTML = docLinkHtml;\n",
              "          element.appendChild(docLink);\n",
              "        }\n",
              "      </script>\n",
              "    </div>\n",
              "  </div>\n",
              "  "
            ],
            "text/plain": [
              "   Clearsky DHI  Clearsky DNI  Clearsky GHI\n",
              "0     -0.256608      0.167621     -1.134570\n",
              "1     -1.598443     -0.152085     -2.806393\n",
              "2      0.071571     -0.070461      0.015488\n",
              "3      0.083924     -0.059860      0.056938\n",
              "4      0.085485     -0.058521      0.062178"
            ]
          },
          "metadata": {},
          "execution_count": 32
        }
      ]
    },
    {
      "cell_type": "code",
      "source": [
        "# convert negative values to 0\n",
        "df_submission[df_submission < 0] = 0"
      ],
      "metadata": {
        "id": "Yzyx2EFsIDGh"
      },
      "execution_count": 55,
      "outputs": []
    },
    {
      "cell_type": "code",
      "source": [
        "df_submission.to_csv('my_submission_9_1.csv', index=False)"
      ],
      "metadata": {
        "id": "pC8eO61C8O26"
      },
      "execution_count": 56,
      "outputs": []
    },
    {
      "cell_type": "code",
      "source": [
        "df_submission.shape"
      ],
      "metadata": {
        "id": "TSuXeDUn8bye",
        "colab": {
          "base_uri": "https://localhost:8080/"
        },
        "outputId": "7ca4c361-3509-4022-febe-85653a9e7286"
      },
      "execution_count": 47,
      "outputs": [
        {
          "output_type": "execute_result",
          "data": {
            "text/plain": [
              "(17520, 3)"
            ]
          },
          "metadata": {},
          "execution_count": 47
        }
      ]
    },
    {
      "cell_type": "code",
      "source": [
        "files.download('my_submission_9_1.csv')"
      ],
      "metadata": {
        "colab": {
          "base_uri": "https://localhost:8080/",
          "height": 17
        },
        "id": "C86nLP028ep5",
        "outputId": "a9f1b960-f02a-47f7-de28-8b1034b14555"
      },
      "execution_count": 57,
      "outputs": [
        {
          "output_type": "display_data",
          "data": {
            "application/javascript": [
              "\n",
              "    async function download(id, filename, size) {\n",
              "      if (!google.colab.kernel.accessAllowed) {\n",
              "        return;\n",
              "      }\n",
              "      const div = document.createElement('div');\n",
              "      const label = document.createElement('label');\n",
              "      label.textContent = `Downloading \"${filename}\": `;\n",
              "      div.appendChild(label);\n",
              "      const progress = document.createElement('progress');\n",
              "      progress.max = size;\n",
              "      div.appendChild(progress);\n",
              "      document.body.appendChild(div);\n",
              "\n",
              "      const buffers = [];\n",
              "      let downloaded = 0;\n",
              "\n",
              "      const channel = await google.colab.kernel.comms.open(id);\n",
              "      // Send a message to notify the kernel that we're ready.\n",
              "      channel.send({})\n",
              "\n",
              "      for await (const message of channel.messages) {\n",
              "        // Send a message to notify the kernel that we're ready.\n",
              "        channel.send({})\n",
              "        if (message.buffers) {\n",
              "          for (const buffer of message.buffers) {\n",
              "            buffers.push(buffer);\n",
              "            downloaded += buffer.byteLength;\n",
              "            progress.value = downloaded;\n",
              "          }\n",
              "        }\n",
              "      }\n",
              "      const blob = new Blob(buffers, {type: 'application/binary'});\n",
              "      const a = document.createElement('a');\n",
              "      a.href = window.URL.createObjectURL(blob);\n",
              "      a.download = filename;\n",
              "      div.appendChild(a);\n",
              "      a.click();\n",
              "      div.remove();\n",
              "    }\n",
              "  "
            ],
            "text/plain": [
              "<IPython.core.display.Javascript object>"
            ]
          },
          "metadata": {}
        },
        {
          "output_type": "display_data",
          "data": {
            "application/javascript": [
              "download(\"download_d8fe5cd9-5580-46d9-9922-4f82c350f242\", \"my_submission_9_1.csv\", 402783)"
            ],
            "text/plain": [
              "<IPython.core.display.Javascript object>"
            ]
          },
          "metadata": {}
        }
      ]
    },
    {
      "cell_type": "code",
      "source": [
        "files.download(\"model_submission_9_1.h5\")"
      ],
      "metadata": {
        "id": "rf4rWNrsp6Uf",
        "colab": {
          "base_uri": "https://localhost:8080/",
          "height": 17
        },
        "outputId": "08ec4a0e-d043-43ec-9f6b-86f14992502b"
      },
      "execution_count": 58,
      "outputs": [
        {
          "output_type": "display_data",
          "data": {
            "application/javascript": [
              "\n",
              "    async function download(id, filename, size) {\n",
              "      if (!google.colab.kernel.accessAllowed) {\n",
              "        return;\n",
              "      }\n",
              "      const div = document.createElement('div');\n",
              "      const label = document.createElement('label');\n",
              "      label.textContent = `Downloading \"${filename}\": `;\n",
              "      div.appendChild(label);\n",
              "      const progress = document.createElement('progress');\n",
              "      progress.max = size;\n",
              "      div.appendChild(progress);\n",
              "      document.body.appendChild(div);\n",
              "\n",
              "      const buffers = [];\n",
              "      let downloaded = 0;\n",
              "\n",
              "      const channel = await google.colab.kernel.comms.open(id);\n",
              "      // Send a message to notify the kernel that we're ready.\n",
              "      channel.send({})\n",
              "\n",
              "      for await (const message of channel.messages) {\n",
              "        // Send a message to notify the kernel that we're ready.\n",
              "        channel.send({})\n",
              "        if (message.buffers) {\n",
              "          for (const buffer of message.buffers) {\n",
              "            buffers.push(buffer);\n",
              "            downloaded += buffer.byteLength;\n",
              "            progress.value = downloaded;\n",
              "          }\n",
              "        }\n",
              "      }\n",
              "      const blob = new Blob(buffers, {type: 'application/binary'});\n",
              "      const a = document.createElement('a');\n",
              "      a.href = window.URL.createObjectURL(blob);\n",
              "      a.download = filename;\n",
              "      div.appendChild(a);\n",
              "      a.click();\n",
              "      div.remove();\n",
              "    }\n",
              "  "
            ],
            "text/plain": [
              "<IPython.core.display.Javascript object>"
            ]
          },
          "metadata": {}
        },
        {
          "output_type": "display_data",
          "data": {
            "application/javascript": [
              "download(\"download_1c56916f-0490-4d09-84a0-5e26c4b7650c\", \"model_submission_9_1.h5\", 2866168)"
            ],
            "text/plain": [
              "<IPython.core.display.Javascript object>"
            ]
          },
          "metadata": {}
        }
      ]
    },
    {
      "cell_type": "markdown",
      "source": [
        "**Loss vs Validation loss Plot**"
      ],
      "metadata": {
        "id": "CTf937SnRZrQ"
      }
    },
    {
      "cell_type": "code",
      "source": [
        "hist_df = pd.DataFrame(history.history)"
      ],
      "metadata": {
        "id": "Jy5eGWJa_Id-"
      },
      "execution_count": 59,
      "outputs": []
    },
    {
      "cell_type": "code",
      "source": [
        "hist_df.plot(figsize=(8,5))\n",
        "plt.gca().set_ylim(500,2000)\n",
        "plt.show()"
      ],
      "metadata": {
        "colab": {
          "base_uri": "https://localhost:8080/",
          "height": 324
        },
        "id": "tQ7bWEu6Q7Y6",
        "outputId": "f4db3d4b-4f3a-4bff-91eb-ce8add0c827a"
      },
      "execution_count": 71,
      "outputs": [
        {
          "output_type": "display_data",
          "data": {
            "image/png": "[encoded data removed]",
            "text/plain": [
              "<Figure size 576x360 with 1 Axes>"
            ]
          },
          "metadata": {
            "needs_background": "light"
          }
        }
      ]
    },
    {
      "cell_type": "code",
      "source": [
        "model_best.summary()"
      ],
      "metadata": {
        "colab": {
          "base_uri": "https://localhost:8080/"
        },
        "id": "R0qcIMgwQ8Tb",
        "outputId": "67f86e97-7a96-48a2-ab03-6344366f9f63"
      },
      "execution_count": 83,
      "outputs": [
        {
          "output_type": "stream",
          "name": "stdout",
          "text": [
            "Model: \"sequential_2\"\n",
            "_________________________________________________________________\n",
            " Layer (type)                Output Shape              Param #   \n",
            "=================================================================\n",
            " dense_8 (Dense)             (None, 600)               9600      \n",
            "                                                                 \n",
            " dense_9 (Dense)             (None, 300)               180300    \n",
            "                                                                 \n",
            " dense_10 (Dense)            (None, 150)               45150     \n",
            "                                                                 \n",
            " dense_11 (Dense)            (None, 3)                 453       \n",
            "                                                                 \n",
            "=================================================================\n",
            "Total params: 235,503\n",
            "Trainable params: 235,503\n",
            "Non-trainable params: 0\n",
            "_________________________________________________________________\n"
          ]
        }
      ]
    },
    {
      "cell_type": "code",
      "source": [
        ""
      ],
      "metadata": {
        "id": "QlTjJyolSEbH"
      },
      "execution_count": null,
      "outputs": []
    }
  ]
}