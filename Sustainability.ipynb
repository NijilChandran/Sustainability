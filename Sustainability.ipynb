{
  "nbformat": 4,
  "nbformat_minor": 0,
  "metadata": {
    "colab": {
      "name": "Sustainability.ipynb",
      "provenance": [],
      "collapsed_sections": [],
      "authorship_tag": "ABX9TyMn4iBiPjlzHcoDfVDBLsh8",
      "include_colab_link": true
    },
    "kernelspec": {
      "name": "python3",
      "display_name": "Python 3"
    },
    "language_info": {
      "name": "python"
    }
  },
  "cells": [
    {
      "cell_type": "markdown",
      "metadata": {
        "id": "view-in-github",
        "colab_type": "text"
      },
      "source": [
        "<a href=\"https://colab.research.google.com/github/NijilChandran/Sustainability/blob/main/Sustainability.ipynb\" target=\"_parent\"><img src=\"https://colab.research.google.com/assets/colab-badge.svg\" alt=\"Open In Colab\"/></a>"
      ]
    },
    {
      "cell_type": "code",
      "execution_count": 1,
      "metadata": {
        "id": "q74j0pJqfjuk"
      },
      "outputs": [],
      "source": [
        "import pandas as pd\n",
        "from sklearn.preprocessing import StandardScaler\n",
        "from sklearn.model_selection import train_test_split\n",
        "import matplotlib.pyplot as plt"
      ]
    },
    {
      "cell_type": "code",
      "source": [
        "from google.colab import files\n",
        "upload = files.upload()"
      ],
      "metadata": {
        "id": "qszXHIIjf1yV"
      },
      "execution_count": null,
      "outputs": []
    },
    {
      "cell_type": "code",
      "source": [
        "!unzip Participants_Data_WSMLC.zip"
      ],
      "metadata": {
        "colab": {
          "base_uri": "https://localhost:8080/"
        },
        "id": "odYTh5rcAjhf",
        "outputId": "a28506df-e7e8-4b17-bb18-ecf6bd7b68f2"
      },
      "execution_count": 4,
      "outputs": [
        {
          "output_type": "stream",
          "name": "stdout",
          "text": [
            "Archive:  Participants_Data_WSMLC.zip\n",
            "  inflating: train.csv               \n",
            "replace __MACOSX/._train.csv? [y]es, [n]o, [A]ll, [N]one, [r]ename: A\n",
            "  inflating: __MACOSX/._train.csv    \n",
            "  inflating: test.csv                \n",
            "  inflating: __MACOSX/._test.csv     \n",
            "  inflating: sample_submission.csv   \n",
            "  inflating: __MACOSX/._sample_submission.csv  \n"
          ]
        }
      ]
    },
    {
      "cell_type": "code",
      "source": [
        "df_train = pd.read_csv(\"train.csv\")\n",
        "df_train.head()"
      ],
      "metadata": {
        "colab": {
          "base_uri": "https://localhost:8080/",
          "height": 267
        },
        "id": "LTz65dxFf5jj",
        "outputId": "fab9e99b-cfbe-47d2-893a-2c8b9cd48440"
      },
      "execution_count": 5,
      "outputs": [
        {
          "output_type": "execute_result",
          "data": {
            "text/html": [
              "\n",
              "  <div id=\"df-7b1fbff1-d162-4b5c-a7ad-61ae8891894e\">\n",
              "    <div class=\"colab-df-container\">\n",
              "      <div>\n",
              "<style scoped>\n",
              "    .dataframe tbody tr th:only-of-type {\n",
              "        vertical-align: middle;\n",
              "    }\n",
              "\n",
              "    .dataframe tbody tr th {\n",
              "        vertical-align: top;\n",
              "    }\n",
              "\n",
              "    .dataframe thead th {\n",
              "        text-align: right;\n",
              "    }\n",
              "</style>\n",
              "<table border=\"1\" class=\"dataframe\">\n",
              "  <thead>\n",
              "    <tr style=\"text-align: right;\">\n",
              "      <th></th>\n",
              "      <th>Year</th>\n",
              "      <th>Month</th>\n",
              "      <th>Day</th>\n",
              "      <th>Hour</th>\n",
              "      <th>Minute</th>\n",
              "      <th>Clearsky DHI</th>\n",
              "      <th>Clearsky DNI</th>\n",
              "      <th>Clearsky GHI</th>\n",
              "      <th>Cloud Type</th>\n",
              "      <th>Dew Point</th>\n",
              "      <th>Temperature</th>\n",
              "      <th>Pressure</th>\n",
              "      <th>Relative Humidity</th>\n",
              "      <th>Solar Zenith Angle</th>\n",
              "      <th>Precipitable Water</th>\n",
              "      <th>Wind Direction</th>\n",
              "      <th>Wind Speed</th>\n",
              "      <th>Fill Flag</th>\n",
              "    </tr>\n",
              "  </thead>\n",
              "  <tbody>\n",
              "    <tr>\n",
              "      <th>0</th>\n",
              "      <td>2009</td>\n",
              "      <td>1</td>\n",
              "      <td>1</td>\n",
              "      <td>0</td>\n",
              "      <td>0</td>\n",
              "      <td>0</td>\n",
              "      <td>0</td>\n",
              "      <td>0</td>\n",
              "      <td>0</td>\n",
              "      <td>0.0</td>\n",
              "      <td>5.0</td>\n",
              "      <td>1010</td>\n",
              "      <td>75.34</td>\n",
              "      <td>106.15</td>\n",
              "      <td>0.499</td>\n",
              "      <td>346.1</td>\n",
              "      <td>3.1</td>\n",
              "      <td>0</td>\n",
              "    </tr>\n",
              "    <tr>\n",
              "      <th>1</th>\n",
              "      <td>2009</td>\n",
              "      <td>1</td>\n",
              "      <td>1</td>\n",
              "      <td>0</td>\n",
              "      <td>30</td>\n",
              "      <td>0</td>\n",
              "      <td>0</td>\n",
              "      <td>0</td>\n",
              "      <td>0</td>\n",
              "      <td>1.0</td>\n",
              "      <td>5.0</td>\n",
              "      <td>1010</td>\n",
              "      <td>80.81</td>\n",
              "      <td>112.28</td>\n",
              "      <td>0.490</td>\n",
              "      <td>346.1</td>\n",
              "      <td>3.1</td>\n",
              "      <td>0</td>\n",
              "    </tr>\n",
              "    <tr>\n",
              "      <th>2</th>\n",
              "      <td>2009</td>\n",
              "      <td>1</td>\n",
              "      <td>1</td>\n",
              "      <td>1</td>\n",
              "      <td>0</td>\n",
              "      <td>0</td>\n",
              "      <td>0</td>\n",
              "      <td>0</td>\n",
              "      <td>4</td>\n",
              "      <td>0.0</td>\n",
              "      <td>5.0</td>\n",
              "      <td>1010</td>\n",
              "      <td>78.27</td>\n",
              "      <td>118.50</td>\n",
              "      <td>0.482</td>\n",
              "      <td>347.9</td>\n",
              "      <td>3.2</td>\n",
              "      <td>0</td>\n",
              "    </tr>\n",
              "    <tr>\n",
              "      <th>3</th>\n",
              "      <td>2009</td>\n",
              "      <td>1</td>\n",
              "      <td>1</td>\n",
              "      <td>1</td>\n",
              "      <td>30</td>\n",
              "      <td>0</td>\n",
              "      <td>0</td>\n",
              "      <td>0</td>\n",
              "      <td>4</td>\n",
              "      <td>0.0</td>\n",
              "      <td>4.0</td>\n",
              "      <td>1010</td>\n",
              "      <td>78.27</td>\n",
              "      <td>124.78</td>\n",
              "      <td>0.478</td>\n",
              "      <td>347.9</td>\n",
              "      <td>3.1</td>\n",
              "      <td>0</td>\n",
              "    </tr>\n",
              "    <tr>\n",
              "      <th>4</th>\n",
              "      <td>2009</td>\n",
              "      <td>1</td>\n",
              "      <td>1</td>\n",
              "      <td>2</td>\n",
              "      <td>0</td>\n",
              "      <td>0</td>\n",
              "      <td>0</td>\n",
              "      <td>0</td>\n",
              "      <td>4</td>\n",
              "      <td>0.0</td>\n",
              "      <td>4.0</td>\n",
              "      <td>1010</td>\n",
              "      <td>76.45</td>\n",
              "      <td>131.12</td>\n",
              "      <td>0.475</td>\n",
              "      <td>350.0</td>\n",
              "      <td>3.0</td>\n",
              "      <td>0</td>\n",
              "    </tr>\n",
              "  </tbody>\n",
              "</table>\n",
              "</div>\n",
              "      <button class=\"colab-df-convert\" onclick=\"convertToInteractive('df-7b1fbff1-d162-4b5c-a7ad-61ae8891894e')\"\n",
              "              title=\"Convert this dataframe to an interactive table.\"\n",
              "              style=\"display:none;\">\n",
              "        \n",
              "  <svg xmlns=\"http://www.w3.org/2000/svg\" height=\"24px\"viewBox=\"0 0 24 24\"\n",
              "       width=\"24px\">\n",
              "    <path d=\"M0 0h24v24H0V0z\" fill=\"none\"/>\n",
              "    <path d=\"M18.56 5.44l.94 2.06.94-2.06 2.06-.94-2.06-.94-.94-2.06-.94 2.06-2.06.94zm-11 1L8.5 8.5l.94-2.06 2.06-.94-2.06-.94L8.5 2.5l-.94 2.06-2.06.94zm10 10l.94 2.06.94-2.06 2.06-.94-2.06-.94-.94-2.06-.94 2.06-2.06.94z\"/><path d=\"M17.41 7.96l-1.37-1.37c-.4-.4-.92-.59-1.43-.59-.52 0-1.04.2-1.43.59L10.3 9.45l-7.72 7.72c-.78.78-.78 2.05 0 2.83L4 21.41c.39.39.9.59 1.41.59.51 0 1.02-.2 1.41-.59l7.78-7.78 2.81-2.81c.8-.78.8-2.07 0-2.86zM5.41 20L4 18.59l7.72-7.72 1.47 1.35L5.41 20z\"/>\n",
              "  </svg>\n",
              "      </button>\n",
              "      \n",
              "  <style>\n",
              "    .colab-df-container {\n",
              "      display:flex;\n",
              "      flex-wrap:wrap;\n",
              "      gap: 12px;\n",
              "    }\n",
              "\n",
              "    .colab-df-convert {\n",
              "      background-color: #E8F0FE;\n",
              "      border: none;\n",
              "      border-radius: 50%;\n",
              "      cursor: pointer;\n",
              "      display: none;\n",
              "      fill: #1967D2;\n",
              "      height: 32px;\n",
              "      padding: 0 0 0 0;\n",
              "      width: 32px;\n",
              "    }\n",
              "\n",
              "    .colab-df-convert:hover {\n",
              "      background-color: #E2EBFA;\n",
              "      box-shadow: 0px 1px 2px rgba(60, 64, 67, 0.3), 0px 1px 3px 1px rgba(60, 64, 67, 0.15);\n",
              "      fill: #174EA6;\n",
              "    }\n",
              "\n",
              "    [theme=dark] .colab-df-convert {\n",
              "      background-color: #3B4455;\n",
              "      fill: #D2E3FC;\n",
              "    }\n",
              "\n",
              "    [theme=dark] .colab-df-convert:hover {\n",
              "      background-color: #434B5C;\n",
              "      box-shadow: 0px 1px 3px 1px rgba(0, 0, 0, 0.15);\n",
              "      filter: drop-shadow(0px 1px 2px rgba(0, 0, 0, 0.3));\n",
              "      fill: #FFFFFF;\n",
              "    }\n",
              "  </style>\n",
              "\n",
              "      <script>\n",
              "        const buttonEl =\n",
              "          document.querySelector('#df-7b1fbff1-d162-4b5c-a7ad-61ae8891894e button.colab-df-convert');\n",
              "        buttonEl.style.display =\n",
              "          google.colab.kernel.accessAllowed ? 'block' : 'none';\n",
              "\n",
              "        async function convertToInteractive(key) {\n",
              "          const element = document.querySelector('#df-7b1fbff1-d162-4b5c-a7ad-61ae8891894e');\n",
              "          const dataTable =\n",
              "            await google.colab.kernel.invokeFunction('convertToInteractive',\n",
              "                                                     [key], {});\n",
              "          if (!dataTable) return;\n",
              "\n",
              "          const docLinkHtml = 'Like what you see? Visit the ' +\n",
              "            '<a target=\"_blank\" href=https://colab.research.google.com/notebooks/data_table.ipynb>data table notebook</a>'\n",
              "            + ' to learn more about interactive tables.';\n",
              "          element.innerHTML = '';\n",
              "          dataTable['output_type'] = 'display_data';\n",
              "          await google.colab.output.renderOutput(dataTable, element);\n",
              "          const docLink = document.createElement('div');\n",
              "          docLink.innerHTML = docLinkHtml;\n",
              "          element.appendChild(docLink);\n",
              "        }\n",
              "      </script>\n",
              "    </div>\n",
              "  </div>\n",
              "  "
            ],
            "text/plain": [
              "   Year  Month  Day  ...  Wind Direction  Wind Speed  Fill Flag\n",
              "0  2009      1    1  ...           346.1         3.1          0\n",
              "1  2009      1    1  ...           346.1         3.1          0\n",
              "2  2009      1    1  ...           347.9         3.2          0\n",
              "3  2009      1    1  ...           347.9         3.1          0\n",
              "4  2009      1    1  ...           350.0         3.0          0\n",
              "\n",
              "[5 rows x 18 columns]"
            ]
          },
          "metadata": {},
          "execution_count": 5
        }
      ]
    },
    {
      "cell_type": "code",
      "source": [
        "df_test = pd.read_csv(\"test.csv\")\n",
        "df_test.head()"
      ],
      "metadata": {
        "colab": {
          "base_uri": "https://localhost:8080/",
          "height": 267
        },
        "id": "sP_tHXFd6Tw0",
        "outputId": "668a311e-02f0-4f65-90e2-cc15f0dbbfde"
      },
      "execution_count": 6,
      "outputs": [
        {
          "output_type": "execute_result",
          "data": {
            "text/html": [
              "\n",
              "  <div id=\"df-97d8071b-be5f-481c-b929-9a4d0204473f\">\n",
              "    <div class=\"colab-df-container\">\n",
              "      <div>\n",
              "<style scoped>\n",
              "    .dataframe tbody tr th:only-of-type {\n",
              "        vertical-align: middle;\n",
              "    }\n",
              "\n",
              "    .dataframe tbody tr th {\n",
              "        vertical-align: top;\n",
              "    }\n",
              "\n",
              "    .dataframe thead th {\n",
              "        text-align: right;\n",
              "    }\n",
              "</style>\n",
              "<table border=\"1\" class=\"dataframe\">\n",
              "  <thead>\n",
              "    <tr style=\"text-align: right;\">\n",
              "      <th></th>\n",
              "      <th>Year</th>\n",
              "      <th>Month</th>\n",
              "      <th>Day</th>\n",
              "      <th>Hour</th>\n",
              "      <th>Minute</th>\n",
              "      <th>Cloud Type</th>\n",
              "      <th>Dew Point</th>\n",
              "      <th>Temperature</th>\n",
              "      <th>Pressure</th>\n",
              "      <th>Relative Humidity</th>\n",
              "      <th>Solar Zenith Angle</th>\n",
              "      <th>Precipitable Water</th>\n",
              "      <th>Wind Direction</th>\n",
              "      <th>Wind Speed</th>\n",
              "      <th>Fill Flag</th>\n",
              "      <th>Clearsky DHI</th>\n",
              "      <th>Clearsky DNI</th>\n",
              "      <th>Clearsky GHI</th>\n",
              "    </tr>\n",
              "  </thead>\n",
              "  <tbody>\n",
              "    <tr>\n",
              "      <th>0</th>\n",
              "      <td>2019</td>\n",
              "      <td>1</td>\n",
              "      <td>1</td>\n",
              "      <td>0</td>\n",
              "      <td>0</td>\n",
              "      <td>7</td>\n",
              "      <td>18.4</td>\n",
              "      <td>18.8</td>\n",
              "      <td>1008</td>\n",
              "      <td>97.70</td>\n",
              "      <td>106.23</td>\n",
              "      <td>3.5</td>\n",
              "      <td>190</td>\n",
              "      <td>2.3</td>\n",
              "      <td>0</td>\n",
              "      <td>NaN</td>\n",
              "      <td>NaN</td>\n",
              "      <td>NaN</td>\n",
              "    </tr>\n",
              "    <tr>\n",
              "      <th>1</th>\n",
              "      <td>2019</td>\n",
              "      <td>1</td>\n",
              "      <td>1</td>\n",
              "      <td>0</td>\n",
              "      <td>30</td>\n",
              "      <td>3</td>\n",
              "      <td>18.4</td>\n",
              "      <td>18.6</td>\n",
              "      <td>1008</td>\n",
              "      <td>98.92</td>\n",
              "      <td>112.36</td>\n",
              "      <td>3.5</td>\n",
              "      <td>187</td>\n",
              "      <td>2.5</td>\n",
              "      <td>0</td>\n",
              "      <td>NaN</td>\n",
              "      <td>NaN</td>\n",
              "      <td>NaN</td>\n",
              "    </tr>\n",
              "    <tr>\n",
              "      <th>2</th>\n",
              "      <td>2019</td>\n",
              "      <td>1</td>\n",
              "      <td>1</td>\n",
              "      <td>1</td>\n",
              "      <td>0</td>\n",
              "      <td>3</td>\n",
              "      <td>18.2</td>\n",
              "      <td>18.5</td>\n",
              "      <td>1008</td>\n",
              "      <td>98.35</td>\n",
              "      <td>118.58</td>\n",
              "      <td>3.5</td>\n",
              "      <td>184</td>\n",
              "      <td>2.8</td>\n",
              "      <td>0</td>\n",
              "      <td>NaN</td>\n",
              "      <td>NaN</td>\n",
              "      <td>NaN</td>\n",
              "    </tr>\n",
              "    <tr>\n",
              "      <th>3</th>\n",
              "      <td>2019</td>\n",
              "      <td>1</td>\n",
              "      <td>1</td>\n",
              "      <td>1</td>\n",
              "      <td>30</td>\n",
              "      <td>3</td>\n",
              "      <td>18.2</td>\n",
              "      <td>18.3</td>\n",
              "      <td>1008</td>\n",
              "      <td>99.58</td>\n",
              "      <td>124.86</td>\n",
              "      <td>3.5</td>\n",
              "      <td>185</td>\n",
              "      <td>3.0</td>\n",
              "      <td>0</td>\n",
              "      <td>NaN</td>\n",
              "      <td>NaN</td>\n",
              "      <td>NaN</td>\n",
              "    </tr>\n",
              "    <tr>\n",
              "      <th>4</th>\n",
              "      <td>2019</td>\n",
              "      <td>1</td>\n",
              "      <td>1</td>\n",
              "      <td>2</td>\n",
              "      <td>0</td>\n",
              "      <td>0</td>\n",
              "      <td>18.0</td>\n",
              "      <td>18.0</td>\n",
              "      <td>1008</td>\n",
              "      <td>99.71</td>\n",
              "      <td>131.20</td>\n",
              "      <td>3.6</td>\n",
              "      <td>186</td>\n",
              "      <td>3.1</td>\n",
              "      <td>0</td>\n",
              "      <td>NaN</td>\n",
              "      <td>NaN</td>\n",
              "      <td>NaN</td>\n",
              "    </tr>\n",
              "  </tbody>\n",
              "</table>\n",
              "</div>\n",
              "      <button class=\"colab-df-convert\" onclick=\"convertToInteractive('df-97d8071b-be5f-481c-b929-9a4d0204473f')\"\n",
              "              title=\"Convert this dataframe to an interactive table.\"\n",
              "              style=\"display:none;\">\n",
              "        \n",
              "  <svg xmlns=\"http://www.w3.org/2000/svg\" height=\"24px\"viewBox=\"0 0 24 24\"\n",
              "       width=\"24px\">\n",
              "    <path d=\"M0 0h24v24H0V0z\" fill=\"none\"/>\n",
              "    <path d=\"M18.56 5.44l.94 2.06.94-2.06 2.06-.94-2.06-.94-.94-2.06-.94 2.06-2.06.94zm-11 1L8.5 8.5l.94-2.06 2.06-.94-2.06-.94L8.5 2.5l-.94 2.06-2.06.94zm10 10l.94 2.06.94-2.06 2.06-.94-2.06-.94-.94-2.06-.94 2.06-2.06.94z\"/><path d=\"M17.41 7.96l-1.37-1.37c-.4-.4-.92-.59-1.43-.59-.52 0-1.04.2-1.43.59L10.3 9.45l-7.72 7.72c-.78.78-.78 2.05 0 2.83L4 21.41c.39.39.9.59 1.41.59.51 0 1.02-.2 1.41-.59l7.78-7.78 2.81-2.81c.8-.78.8-2.07 0-2.86zM5.41 20L4 18.59l7.72-7.72 1.47 1.35L5.41 20z\"/>\n",
              "  </svg>\n",
              "      </button>\n",
              "      \n",
              "  <style>\n",
              "    .colab-df-container {\n",
              "      display:flex;\n",
              "      flex-wrap:wrap;\n",
              "      gap: 12px;\n",
              "    }\n",
              "\n",
              "    .colab-df-convert {\n",
              "      background-color: #E8F0FE;\n",
              "      border: none;\n",
              "      border-radius: 50%;\n",
              "      cursor: pointer;\n",
              "      display: none;\n",
              "      fill: #1967D2;\n",
              "      height: 32px;\n",
              "      padding: 0 0 0 0;\n",
              "      width: 32px;\n",
              "    }\n",
              "\n",
              "    .colab-df-convert:hover {\n",
              "      background-color: #E2EBFA;\n",
              "      box-shadow: 0px 1px 2px rgba(60, 64, 67, 0.3), 0px 1px 3px 1px rgba(60, 64, 67, 0.15);\n",
              "      fill: #174EA6;\n",
              "    }\n",
              "\n",
              "    [theme=dark] .colab-df-convert {\n",
              "      background-color: #3B4455;\n",
              "      fill: #D2E3FC;\n",
              "    }\n",
              "\n",
              "    [theme=dark] .colab-df-convert:hover {\n",
              "      background-color: #434B5C;\n",
              "      box-shadow: 0px 1px 3px 1px rgba(0, 0, 0, 0.15);\n",
              "      filter: drop-shadow(0px 1px 2px rgba(0, 0, 0, 0.3));\n",
              "      fill: #FFFFFF;\n",
              "    }\n",
              "  </style>\n",
              "\n",
              "      <script>\n",
              "        const buttonEl =\n",
              "          document.querySelector('#df-97d8071b-be5f-481c-b929-9a4d0204473f button.colab-df-convert');\n",
              "        buttonEl.style.display =\n",
              "          google.colab.kernel.accessAllowed ? 'block' : 'none';\n",
              "\n",
              "        async function convertToInteractive(key) {\n",
              "          const element = document.querySelector('#df-97d8071b-be5f-481c-b929-9a4d0204473f');\n",
              "          const dataTable =\n",
              "            await google.colab.kernel.invokeFunction('convertToInteractive',\n",
              "                                                     [key], {});\n",
              "          if (!dataTable) return;\n",
              "\n",
              "          const docLinkHtml = 'Like what you see? Visit the ' +\n",
              "            '<a target=\"_blank\" href=https://colab.research.google.com/notebooks/data_table.ipynb>data table notebook</a>'\n",
              "            + ' to learn more about interactive tables.';\n",
              "          element.innerHTML = '';\n",
              "          dataTable['output_type'] = 'display_data';\n",
              "          await google.colab.output.renderOutput(dataTable, element);\n",
              "          const docLink = document.createElement('div');\n",
              "          docLink.innerHTML = docLinkHtml;\n",
              "          element.appendChild(docLink);\n",
              "        }\n",
              "      </script>\n",
              "    </div>\n",
              "  </div>\n",
              "  "
            ],
            "text/plain": [
              "   Year  Month  Day  Hour  ...  Fill Flag  Clearsky DHI  Clearsky DNI  Clearsky GHI\n",
              "0  2019      1    1     0  ...          0           NaN           NaN           NaN\n",
              "1  2019      1    1     0  ...          0           NaN           NaN           NaN\n",
              "2  2019      1    1     1  ...          0           NaN           NaN           NaN\n",
              "3  2019      1    1     1  ...          0           NaN           NaN           NaN\n",
              "4  2019      1    1     2  ...          0           NaN           NaN           NaN\n",
              "\n",
              "[5 rows x 18 columns]"
            ]
          },
          "metadata": {},
          "execution_count": 6
        }
      ]
    },
    {
      "cell_type": "code",
      "source": [
        "df_train.columns"
      ],
      "metadata": {
        "colab": {
          "base_uri": "https://localhost:8080/"
        },
        "id": "Z86SrItIhFdt",
        "outputId": "c40cf5b4-7d5b-4245-b0d1-0abf7c12fbcf"
      },
      "execution_count": 7,
      "outputs": [
        {
          "output_type": "execute_result",
          "data": {
            "text/plain": [
              "Index(['Year', 'Month', 'Day', 'Hour', 'Minute', 'Clearsky DHI',\n",
              "       'Clearsky DNI', 'Clearsky GHI', 'Cloud Type', 'Dew Point',\n",
              "       'Temperature', 'Pressure', 'Relative Humidity', 'Solar Zenith Angle',\n",
              "       'Precipitable Water', 'Wind Direction', 'Wind Speed', 'Fill Flag'],\n",
              "      dtype='object')"
            ]
          },
          "metadata": {},
          "execution_count": 7
        }
      ]
    },
    {
      "cell_type": "code",
      "source": [
        "X_cols=['Year', 'Month', 'Day', 'Hour', 'Minute','Cloud Type', 'Dew Point',\n",
        "       'Temperature', 'Pressure', 'Relative Humidity', 'Solar Zenith Angle',\n",
        "       'Precipitable Water', 'Wind Direction', 'Wind Speed', 'Fill Flag']\n",
        "y_cols = ['Clearsky DHI', 'Clearsky DNI', 'Clearsky GHI']"
      ],
      "metadata": {
        "id": "nwNiDV7JiIbW"
      },
      "execution_count": 8,
      "outputs": []
    },
    {
      "cell_type": "code",
      "source": [
        "X_nmpy =  df_train[X_cols].to_numpy()\n",
        "y_nmpy =  df_train[y_cols].to_numpy()"
      ],
      "metadata": {
        "id": "0vpUAZNelMWr"
      },
      "execution_count": 9,
      "outputs": []
    },
    {
      "cell_type": "code",
      "source": [
        "X_test_nmpy = df_test[X_cols].to_numpy()\n",
        "y_test_nmpy = df_test[y_cols].to_numpy()"
      ],
      "metadata": {
        "id": "QmS1QHRJ6d0X"
      },
      "execution_count": 10,
      "outputs": []
    },
    {
      "cell_type": "code",
      "source": [
        "X_train_full, X_test, y_train_full, y_test = train_test_split(X_nmpy, y_nmpy,test_size=0.2)\n",
        "X_train, X_valid, y_train, y_valid = train_test_split(X_train_full, y_train_full,test_size=0.2)"
      ],
      "metadata": {
        "id": "Q7cqINgcFqmB"
      },
      "execution_count": 22,
      "outputs": []
    },
    {
      "cell_type": "code",
      "source": [
        "print(X_nmpy.shape[0])\n",
        "print(X_train_full.shape[0])\n",
        "print(X_test.shape[0])\n",
        "print(X_train.shape[0])\n",
        "print(X_valid.shape[0])"
      ],
      "metadata": {
        "colab": {
          "base_uri": "https://localhost:8080/"
        },
        "id": "8gvcKnUyF-B7",
        "outputId": "8d5e69bb-8957-4d7d-f626-5e948df88180"
      },
      "execution_count": 23,
      "outputs": [
        {
          "output_type": "stream",
          "name": "stdout",
          "text": [
            "175296\n",
            "140236\n",
            "35060\n",
            "112188\n",
            "28048\n"
          ]
        }
      ]
    },
    {
      "cell_type": "code",
      "source": [
        "from numpy import mean\n",
        "from numpy import std\n",
        "from sklearn.datasets import make_regression\n",
        "from sklearn.model_selection import RepeatedKFold\n",
        "from keras.models import Sequential\n",
        "from keras.layers import Dense"
      ],
      "metadata": {
        "id": "cS4fFdxekMZJ"
      },
      "execution_count": 24,
      "outputs": []
    },
    {
      "cell_type": "code",
      "source": [
        "# get the model\n",
        "def get_model(n_inputs, n_outputs):\n",
        "\tmodel = Sequential([\n",
        "\t Dense(600, input_dim=n_inputs, activation='relu'),\n",
        "\t Dense(300, activation='relu'),\n",
        "\t Dense(150, activation='relu'),\n",
        "\t Dense(n_outputs)\n",
        "  ])\n",
        "\tmodel.compile(loss='mean_squared_error', optimizer='adam')\n",
        "\treturn model"
      ],
      "metadata": {
        "id": "fRtcdLSLiRUA"
      },
      "execution_count": 25,
      "outputs": []
    },
    {
      "cell_type": "code",
      "source": [
        "n_inputs, n_outputs = X_train.shape[1], y_train.shape[1]\n",
        "model = get_model(n_inputs, n_outputs)\n",
        "# fit model\n",
        "history = model.fit(X_train, y_train, epochs=120,validation_data=(X_valid, y_valid))\n",
        "# evaluate model on test set\n",
        "mse_test = model.evaluate(X_test, y_test)"
      ],
      "metadata": {
        "id": "Z6WsxnRz5ZnF",
        "colab": {
          "base_uri": "https://localhost:8080/"
        },
        "outputId": "92945c03-826c-4927-9cf8-4b45cdcdc698"
      },
      "execution_count": 27,
      "outputs": [
        {
          "output_type": "stream",
          "name": "stdout",
          "text": [
            "Epoch 1/120\n",
            "3506/3506 [==============================] - 24s 7ms/step - loss: 4274.7031 - val_loss: 985.6119\n",
            "Epoch 2/120\n",
            "3506/3506 [==============================] - 22s 6ms/step - loss: 1221.4240 - val_loss: 1687.7958\n",
            "Epoch 3/120\n",
            "3506/3506 [==============================] - 24s 7ms/step - loss: 1148.3345 - val_loss: 1042.9376\n",
            "Epoch 4/120\n",
            "3506/3506 [==============================] - 24s 7ms/step - loss: 1086.3818 - val_loss: 950.2032\n",
            "Epoch 5/120\n",
            "3506/3506 [==============================] - 24s 7ms/step - loss: 1024.2999 - val_loss: 1134.9706\n",
            "Epoch 6/120\n",
            "3506/3506 [==============================] - 23s 7ms/step - loss: 1018.7833 - val_loss: 836.7660\n",
            "Epoch 7/120\n",
            "3506/3506 [==============================] - 23s 6ms/step - loss: 988.4283 - val_loss: 815.8380\n",
            "Epoch 8/120\n",
            "3506/3506 [==============================] - 23s 7ms/step - loss: 930.7722 - val_loss: 1053.9734\n",
            "Epoch 9/120\n",
            "3506/3506 [==============================] - 23s 7ms/step - loss: 902.5618 - val_loss: 887.4612\n",
            "Epoch 10/120\n",
            "3506/3506 [==============================] - 24s 7ms/step - loss: 903.5721 - val_loss: 830.5229\n",
            "Epoch 11/120\n",
            "3506/3506 [==============================] - 24s 7ms/step - loss: 866.2487 - val_loss: 755.9902\n",
            "Epoch 12/120\n",
            "3506/3506 [==============================] - 23s 7ms/step - loss: 837.8458 - val_loss: 727.9668\n",
            "Epoch 13/120\n",
            "3506/3506 [==============================] - 23s 7ms/step - loss: 800.6540 - val_loss: 733.0739\n",
            "Epoch 14/120\n",
            "3506/3506 [==============================] - 25s 7ms/step - loss: 771.7156 - val_loss: 825.5829\n",
            "Epoch 15/120\n",
            "3506/3506 [==============================] - 25s 7ms/step - loss: 760.0853 - val_loss: 663.4060\n",
            "Epoch 16/120\n",
            "3506/3506 [==============================] - 24s 7ms/step - loss: 744.4843 - val_loss: 660.5493\n",
            "Epoch 17/120\n",
            "3506/3506 [==============================] - 22s 6ms/step - loss: 734.6691 - val_loss: 666.6292\n",
            "Epoch 18/120\n",
            "3506/3506 [==============================] - 26s 7ms/step - loss: 742.9418 - val_loss: 688.4390\n",
            "Epoch 19/120\n",
            "3506/3506 [==============================] - 22s 6ms/step - loss: 731.7815 - val_loss: 672.8378\n",
            "Epoch 20/120\n",
            "3506/3506 [==============================] - 22s 6ms/step - loss: 718.6312 - val_loss: 678.9346\n",
            "Epoch 21/120\n",
            "3506/3506 [==============================] - 21s 6ms/step - loss: 720.3525 - val_loss: 782.6952\n",
            "Epoch 22/120\n",
            "3506/3506 [==============================] - 22s 6ms/step - loss: 720.5956 - val_loss: 691.6592\n",
            "Epoch 23/120\n",
            "3506/3506 [==============================] - 22s 6ms/step - loss: 710.9984 - val_loss: 678.3024\n",
            "Epoch 24/120\n",
            "3506/3506 [==============================] - 24s 7ms/step - loss: 711.1934 - val_loss: 638.5318\n",
            "Epoch 25/120\n",
            "3506/3506 [==============================] - 23s 7ms/step - loss: 704.8944 - val_loss: 674.9966\n",
            "Epoch 26/120\n",
            "3506/3506 [==============================] - 25s 7ms/step - loss: 705.8005 - val_loss: 693.3611\n",
            "Epoch 27/120\n",
            "3506/3506 [==============================] - 24s 7ms/step - loss: 701.1261 - val_loss: 659.0571\n",
            "Epoch 28/120\n",
            "3506/3506 [==============================] - 24s 7ms/step - loss: 692.5297 - val_loss: 785.9941\n",
            "Epoch 29/120\n",
            "3506/3506 [==============================] - 25s 7ms/step - loss: 687.1152 - val_loss: 686.9509\n",
            "Epoch 30/120\n",
            "3506/3506 [==============================] - 22s 6ms/step - loss: 683.8644 - val_loss: 673.7444\n",
            "Epoch 31/120\n",
            "3506/3506 [==============================] - 22s 6ms/step - loss: 690.5938 - val_loss: 631.5835\n",
            "Epoch 32/120\n",
            "3506/3506 [==============================] - 23s 7ms/step - loss: 687.3552 - val_loss: 678.1420\n",
            "Epoch 33/120\n",
            "3506/3506 [==============================] - 21s 6ms/step - loss: 682.1105 - val_loss: 658.2003\n",
            "Epoch 34/120\n",
            "3506/3506 [==============================] - 20s 6ms/step - loss: 684.1415 - val_loss: 691.4064\n",
            "Epoch 35/120\n",
            "3506/3506 [==============================] - 23s 6ms/step - loss: 678.2412 - val_loss: 643.1340\n",
            "Epoch 36/120\n",
            "3506/3506 [==============================] - 22s 6ms/step - loss: 670.8621 - val_loss: 628.4088\n",
            "Epoch 37/120\n",
            "3506/3506 [==============================] - 23s 7ms/step - loss: 669.0556 - val_loss: 742.2427\n",
            "Epoch 38/120\n",
            "3506/3506 [==============================] - 22s 6ms/step - loss: 675.4434 - val_loss: 728.1996\n",
            "Epoch 39/120\n",
            "3506/3506 [==============================] - 23s 7ms/step - loss: 662.1843 - val_loss: 659.8141\n",
            "Epoch 40/120\n",
            "3506/3506 [==============================] - 20s 6ms/step - loss: 662.1617 - val_loss: 614.9897\n",
            "Epoch 41/120\n",
            "3506/3506 [==============================] - 21s 6ms/step - loss: 663.6588 - val_loss: 662.8737\n",
            "Epoch 42/120\n",
            "3506/3506 [==============================] - 21s 6ms/step - loss: 655.7715 - val_loss: 659.4319\n",
            "Epoch 43/120\n",
            "3506/3506 [==============================] - 23s 7ms/step - loss: 653.8454 - val_loss: 657.8151\n",
            "Epoch 44/120\n",
            "3506/3506 [==============================] - 22s 6ms/step - loss: 650.2762 - val_loss: 678.7446\n",
            "Epoch 45/120\n",
            "3506/3506 [==============================] - 20s 6ms/step - loss: 658.6059 - val_loss: 600.4146\n",
            "Epoch 46/120\n",
            "3506/3506 [==============================] - 24s 7ms/step - loss: 656.4028 - val_loss: 620.9830\n",
            "Epoch 47/120\n",
            "3506/3506 [==============================] - 25s 7ms/step - loss: 650.1982 - val_loss: 602.3611\n",
            "Epoch 48/120\n",
            "3506/3506 [==============================] - 23s 7ms/step - loss: 647.0703 - val_loss: 639.9446\n",
            "Epoch 49/120\n",
            "3506/3506 [==============================] - 22s 6ms/step - loss: 647.6648 - val_loss: 664.0065\n",
            "Epoch 50/120\n",
            "3506/3506 [==============================] - 22s 6ms/step - loss: 647.8116 - val_loss: 671.6662\n",
            "Epoch 51/120\n",
            "3506/3506 [==============================] - 25s 7ms/step - loss: 646.6241 - val_loss: 632.2158\n",
            "Epoch 52/120\n",
            "3506/3506 [==============================] - 21s 6ms/step - loss: 648.3937 - val_loss: 698.5297\n",
            "Epoch 53/120\n",
            "3506/3506 [==============================] - 23s 6ms/step - loss: 645.1693 - val_loss: 713.8962\n",
            "Epoch 54/120\n",
            "3506/3506 [==============================] - 23s 7ms/step - loss: 641.4705 - val_loss: 672.1343\n",
            "Epoch 55/120\n",
            "3506/3506 [==============================] - 20s 6ms/step - loss: 638.2967 - val_loss: 635.0571\n",
            "Epoch 56/120\n",
            "3506/3506 [==============================] - 21s 6ms/step - loss: 631.9635 - val_loss: 704.1050\n",
            "Epoch 57/120\n",
            "3506/3506 [==============================] - 22s 6ms/step - loss: 636.0882 - val_loss: 594.5187\n",
            "Epoch 58/120\n",
            "3506/3506 [==============================] - 21s 6ms/step - loss: 642.7653 - val_loss: 679.4874\n",
            "Epoch 59/120\n",
            "3506/3506 [==============================] - 20s 6ms/step - loss: 632.3341 - val_loss: 597.9461\n",
            "Epoch 60/120\n",
            "3506/3506 [==============================] - 22s 6ms/step - loss: 633.3322 - val_loss: 593.9175\n",
            "Epoch 61/120\n",
            "3506/3506 [==============================] - 21s 6ms/step - loss: 631.4902 - val_loss: 611.1627\n",
            "Epoch 62/120\n",
            "3506/3506 [==============================] - 23s 7ms/step - loss: 629.3965 - val_loss: 724.3374\n",
            "Epoch 63/120\n",
            "3506/3506 [==============================] - 21s 6ms/step - loss: 631.4709 - val_loss: 617.9351\n",
            "Epoch 64/120\n",
            "3506/3506 [==============================] - 22s 6ms/step - loss: 624.8605 - val_loss: 593.6381\n",
            "Epoch 65/120\n",
            "3506/3506 [==============================] - 21s 6ms/step - loss: 633.2370 - val_loss: 612.3636\n",
            "Epoch 66/120\n",
            "3506/3506 [==============================] - 22s 6ms/step - loss: 624.6423 - val_loss: 607.2388\n",
            "Epoch 67/120\n",
            "3506/3506 [==============================] - 22s 6ms/step - loss: 618.9096 - val_loss: 632.2042\n",
            "Epoch 68/120\n",
            "3506/3506 [==============================] - 21s 6ms/step - loss: 622.5833 - val_loss: 693.2592\n",
            "Epoch 69/120\n",
            "3506/3506 [==============================] - 22s 6ms/step - loss: 622.7031 - val_loss: 612.1590\n",
            "Epoch 70/120\n",
            "3506/3506 [==============================] - 21s 6ms/step - loss: 623.9183 - val_loss: 644.2732\n",
            "Epoch 71/120\n",
            "3506/3506 [==============================] - 20s 6ms/step - loss: 620.6873 - val_loss: 595.2835\n",
            "Epoch 72/120\n",
            "3506/3506 [==============================] - 21s 6ms/step - loss: 615.2838 - val_loss: 682.3831\n",
            "Epoch 73/120\n",
            "3506/3506 [==============================] - 22s 6ms/step - loss: 618.4280 - val_loss: 595.4269\n",
            "Epoch 74/120\n",
            "3506/3506 [==============================] - 19s 6ms/step - loss: 617.9076 - val_loss: 641.5534\n",
            "Epoch 75/120\n",
            "3506/3506 [==============================] - 22s 6ms/step - loss: 613.9639 - val_loss: 636.6414\n",
            "Epoch 76/120\n",
            "3506/3506 [==============================] - 21s 6ms/step - loss: 619.2980 - val_loss: 581.6927\n",
            "Epoch 77/120\n",
            "3506/3506 [==============================] - 22s 6ms/step - loss: 611.8853 - val_loss: 586.9364\n",
            "Epoch 78/120\n",
            "3506/3506 [==============================] - 22s 6ms/step - loss: 614.2618 - val_loss: 604.1210\n",
            "Epoch 79/120\n",
            "3506/3506 [==============================] - 20s 6ms/step - loss: 609.2213 - val_loss: 722.1668\n",
            "Epoch 80/120\n",
            "3506/3506 [==============================] - 22s 6ms/step - loss: 613.8250 - val_loss: 1033.3367\n",
            "Epoch 81/120\n",
            "3506/3506 [==============================] - 21s 6ms/step - loss: 616.3852 - val_loss: 654.3403\n",
            "Epoch 82/120\n",
            "3506/3506 [==============================] - 24s 7ms/step - loss: 613.5612 - val_loss: 611.3089\n",
            "Epoch 83/120\n",
            "3506/3506 [==============================] - 21s 6ms/step - loss: 611.3074 - val_loss: 569.2951\n",
            "Epoch 84/120\n",
            "3506/3506 [==============================] - 21s 6ms/step - loss: 615.1386 - val_loss: 633.3843\n",
            "Epoch 85/120\n",
            "3506/3506 [==============================] - 21s 6ms/step - loss: 607.3055 - val_loss: 609.0270\n",
            "Epoch 86/120\n",
            "3506/3506 [==============================] - 24s 7ms/step - loss: 606.0104 - val_loss: 638.2117\n",
            "Epoch 87/120\n",
            "3506/3506 [==============================] - 23s 7ms/step - loss: 608.9648 - val_loss: 652.2306\n",
            "Epoch 88/120\n",
            "3506/3506 [==============================] - 23s 6ms/step - loss: 614.0466 - val_loss: 636.6827\n",
            "Epoch 89/120\n",
            "3506/3506 [==============================] - 37s 10ms/step - loss: 603.8890 - val_loss: 592.1334\n",
            "Epoch 90/120\n",
            "3506/3506 [==============================] - 24s 7ms/step - loss: 607.0599 - val_loss: 597.1995\n",
            "Epoch 91/120\n",
            "3506/3506 [==============================] - 22s 6ms/step - loss: 607.0258 - val_loss: 611.8605\n",
            "Epoch 92/120\n",
            "3506/3506 [==============================] - 23s 6ms/step - loss: 603.6462 - val_loss: 616.1362\n",
            "Epoch 93/120\n",
            "3506/3506 [==============================] - 26s 7ms/step - loss: 605.5740 - val_loss: 572.2132\n",
            "Epoch 94/120\n",
            "3506/3506 [==============================] - 28s 8ms/step - loss: 606.4208 - val_loss: 643.3726\n",
            "Epoch 95/120\n",
            "3506/3506 [==============================] - 24s 7ms/step - loss: 603.4896 - val_loss: 691.1191\n",
            "Epoch 96/120\n",
            "3506/3506 [==============================] - 21s 6ms/step - loss: 597.4828 - val_loss: 593.0332\n",
            "Epoch 97/120\n",
            "3506/3506 [==============================] - 22s 6ms/step - loss: 603.3091 - val_loss: 606.0856\n",
            "Epoch 98/120\n",
            "3506/3506 [==============================] - 20s 6ms/step - loss: 601.2530 - val_loss: 615.0271\n",
            "Epoch 99/120\n",
            "3506/3506 [==============================] - 21s 6ms/step - loss: 597.0707 - val_loss: 648.0346\n",
            "Epoch 100/120\n",
            "3506/3506 [==============================] - 22s 6ms/step - loss: 606.2155 - val_loss: 590.4926\n",
            "Epoch 101/120\n",
            "3506/3506 [==============================] - 20s 6ms/step - loss: 601.1997 - val_loss: 643.6616\n",
            "Epoch 102/120\n",
            "3506/3506 [==============================] - 24s 7ms/step - loss: 599.6195 - val_loss: 594.7624\n",
            "Epoch 103/120\n",
            "3506/3506 [==============================] - 26s 7ms/step - loss: 597.1441 - val_loss: 560.8292\n",
            "Epoch 104/120\n",
            "3506/3506 [==============================] - 25s 7ms/step - loss: 593.8122 - val_loss: 679.5048\n",
            "Epoch 105/120\n",
            "3506/3506 [==============================] - 27s 8ms/step - loss: 597.9757 - val_loss: 583.6877\n",
            "Epoch 106/120\n",
            "3506/3506 [==============================] - 26s 7ms/step - loss: 600.8981 - val_loss: 635.0045\n",
            "Epoch 107/120\n",
            "3506/3506 [==============================] - 25s 7ms/step - loss: 597.9196 - val_loss: 669.4904\n",
            "Epoch 108/120\n",
            "3506/3506 [==============================] - 24s 7ms/step - loss: 598.0836 - val_loss: 579.1406\n",
            "Epoch 109/120\n",
            "3506/3506 [==============================] - 24s 7ms/step - loss: 591.5054 - val_loss: 676.9733\n",
            "Epoch 110/120\n",
            "3506/3506 [==============================] - 24s 7ms/step - loss: 599.2804 - val_loss: 567.5903\n",
            "Epoch 111/120\n",
            "3506/3506 [==============================] - 22s 6ms/step - loss: 591.3749 - val_loss: 697.0535\n",
            "Epoch 112/120\n",
            "3506/3506 [==============================] - 23s 7ms/step - loss: 593.3104 - val_loss: 559.9274\n",
            "Epoch 113/120\n",
            "3506/3506 [==============================] - 22s 6ms/step - loss: 592.4174 - val_loss: 567.5007\n",
            "Epoch 114/120\n",
            "3506/3506 [==============================] - 24s 7ms/step - loss: 591.9960 - val_loss: 576.7094\n",
            "Epoch 115/120\n",
            "3506/3506 [==============================] - 24s 7ms/step - loss: 591.2982 - val_loss: 572.2640\n",
            "Epoch 116/120\n",
            "3506/3506 [==============================] - 25s 7ms/step - loss: 590.4115 - val_loss: 585.5128\n",
            "Epoch 117/120\n",
            "3506/3506 [==============================] - 24s 7ms/step - loss: 589.3380 - val_loss: 555.8281\n",
            "Epoch 118/120\n",
            "3506/3506 [==============================] - 22s 6ms/step - loss: 592.7670 - val_loss: 555.2752\n",
            "Epoch 119/120\n",
            "3506/3506 [==============================] - 35s 10ms/step - loss: 590.5243 - val_loss: 561.2192\n",
            "Epoch 120/120\n",
            "3506/3506 [==============================] - 36s 10ms/step - loss: 586.5676 - val_loss: 609.0356\n",
            "1096/1096 [==============================] - 2s 2ms/step - loss: 622.1611\n"
          ]
        }
      ]
    },
    {
      "cell_type": "code",
      "source": [
        "mse_test"
      ],
      "metadata": {
        "colab": {
          "base_uri": "https://localhost:8080/"
        },
        "id": "jH5xq4h-IM10",
        "outputId": "0730d3c4-bb45-45ec-fac1-422d21fb08ce"
      },
      "execution_count": 28,
      "outputs": [
        {
          "output_type": "execute_result",
          "data": {
            "text/plain": [
              "622.1611328125"
            ]
          },
          "metadata": {},
          "execution_count": 28
        }
      ]
    },
    {
      "cell_type": "code",
      "source": [
        "#save model\n",
        "model.save(\"model_submission_8.h5\")"
      ],
      "metadata": {
        "id": "DIqCfl4h-V8_"
      },
      "execution_count": 29,
      "outputs": []
    },
    {
      "cell_type": "code",
      "source": [
        "yhat = model.predict(X_test_nmpy)"
      ],
      "metadata": {
        "id": "hB-OGF4FkwwL"
      },
      "execution_count": 30,
      "outputs": []
    },
    {
      "cell_type": "code",
      "source": [
        "df_submission = pd.DataFrame(yhat, columns = y_cols)"
      ],
      "metadata": {
        "id": "aHmYbkX170zy"
      },
      "execution_count": 31,
      "outputs": []
    },
    {
      "cell_type": "code",
      "source": [
        "df_submission.head()"
      ],
      "metadata": {
        "id": "TD0jhk278M4l",
        "colab": {
          "base_uri": "https://localhost:8080/",
          "height": 206
        },
        "outputId": "aa3e7f9b-9f83-4235-f2a7-35b0bdbfa6a2"
      },
      "execution_count": 32,
      "outputs": [
        {
          "output_type": "execute_result",
          "data": {
            "text/html": [
              "\n",
              "  <div id=\"df-df090f93-c960-4d34-85b8-c86de3387f18\">\n",
              "    <div class=\"colab-df-container\">\n",
              "      <div>\n",
              "<style scoped>\n",
              "    .dataframe tbody tr th:only-of-type {\n",
              "        vertical-align: middle;\n",
              "    }\n",
              "\n",
              "    .dataframe tbody tr th {\n",
              "        vertical-align: top;\n",
              "    }\n",
              "\n",
              "    .dataframe thead th {\n",
              "        text-align: right;\n",
              "    }\n",
              "</style>\n",
              "<table border=\"1\" class=\"dataframe\">\n",
              "  <thead>\n",
              "    <tr style=\"text-align: right;\">\n",
              "      <th></th>\n",
              "      <th>Clearsky DHI</th>\n",
              "      <th>Clearsky DNI</th>\n",
              "      <th>Clearsky GHI</th>\n",
              "    </tr>\n",
              "  </thead>\n",
              "  <tbody>\n",
              "    <tr>\n",
              "      <th>0</th>\n",
              "      <td>-0.256608</td>\n",
              "      <td>0.167621</td>\n",
              "      <td>-1.134570</td>\n",
              "    </tr>\n",
              "    <tr>\n",
              "      <th>1</th>\n",
              "      <td>-1.598443</td>\n",
              "      <td>-0.152085</td>\n",
              "      <td>-2.806393</td>\n",
              "    </tr>\n",
              "    <tr>\n",
              "      <th>2</th>\n",
              "      <td>0.071571</td>\n",
              "      <td>-0.070461</td>\n",
              "      <td>0.015488</td>\n",
              "    </tr>\n",
              "    <tr>\n",
              "      <th>3</th>\n",
              "      <td>0.083924</td>\n",
              "      <td>-0.059860</td>\n",
              "      <td>0.056938</td>\n",
              "    </tr>\n",
              "    <tr>\n",
              "      <th>4</th>\n",
              "      <td>0.085485</td>\n",
              "      <td>-0.058521</td>\n",
              "      <td>0.062178</td>\n",
              "    </tr>\n",
              "  </tbody>\n",
              "</table>\n",
              "</div>\n",
              "      <button class=\"colab-df-convert\" onclick=\"convertToInteractive('df-df090f93-c960-4d34-85b8-c86de3387f18')\"\n",
              "              title=\"Convert this dataframe to an interactive table.\"\n",
              "              style=\"display:none;\">\n",
              "        \n",
              "  <svg xmlns=\"http://www.w3.org/2000/svg\" height=\"24px\"viewBox=\"0 0 24 24\"\n",
              "       width=\"24px\">\n",
              "    <path d=\"M0 0h24v24H0V0z\" fill=\"none\"/>\n",
              "    <path d=\"M18.56 5.44l.94 2.06.94-2.06 2.06-.94-2.06-.94-.94-2.06-.94 2.06-2.06.94zm-11 1L8.5 8.5l.94-2.06 2.06-.94-2.06-.94L8.5 2.5l-.94 2.06-2.06.94zm10 10l.94 2.06.94-2.06 2.06-.94-2.06-.94-.94-2.06-.94 2.06-2.06.94z\"/><path d=\"M17.41 7.96l-1.37-1.37c-.4-.4-.92-.59-1.43-.59-.52 0-1.04.2-1.43.59L10.3 9.45l-7.72 7.72c-.78.78-.78 2.05 0 2.83L4 21.41c.39.39.9.59 1.41.59.51 0 1.02-.2 1.41-.59l7.78-7.78 2.81-2.81c.8-.78.8-2.07 0-2.86zM5.41 20L4 18.59l7.72-7.72 1.47 1.35L5.41 20z\"/>\n",
              "  </svg>\n",
              "      </button>\n",
              "      \n",
              "  <style>\n",
              "    .colab-df-container {\n",
              "      display:flex;\n",
              "      flex-wrap:wrap;\n",
              "      gap: 12px;\n",
              "    }\n",
              "\n",
              "    .colab-df-convert {\n",
              "      background-color: #E8F0FE;\n",
              "      border: none;\n",
              "      border-radius: 50%;\n",
              "      cursor: pointer;\n",
              "      display: none;\n",
              "      fill: #1967D2;\n",
              "      height: 32px;\n",
              "      padding: 0 0 0 0;\n",
              "      width: 32px;\n",
              "    }\n",
              "\n",
              "    .colab-df-convert:hover {\n",
              "      background-color: #E2EBFA;\n",
              "      box-shadow: 0px 1px 2px rgba(60, 64, 67, 0.3), 0px 1px 3px 1px rgba(60, 64, 67, 0.15);\n",
              "      fill: #174EA6;\n",
              "    }\n",
              "\n",
              "    [theme=dark] .colab-df-convert {\n",
              "      background-color: #3B4455;\n",
              "      fill: #D2E3FC;\n",
              "    }\n",
              "\n",
              "    [theme=dark] .colab-df-convert:hover {\n",
              "      background-color: #434B5C;\n",
              "      box-shadow: 0px 1px 3px 1px rgba(0, 0, 0, 0.15);\n",
              "      filter: drop-shadow(0px 1px 2px rgba(0, 0, 0, 0.3));\n",
              "      fill: #FFFFFF;\n",
              "    }\n",
              "  </style>\n",
              "\n",
              "      <script>\n",
              "        const buttonEl =\n",
              "          document.querySelector('#df-df090f93-c960-4d34-85b8-c86de3387f18 button.colab-df-convert');\n",
              "        buttonEl.style.display =\n",
              "          google.colab.kernel.accessAllowed ? 'block' : 'none';\n",
              "\n",
              "        async function convertToInteractive(key) {\n",
              "          const element = document.querySelector('#df-df090f93-c960-4d34-85b8-c86de3387f18');\n",
              "          const dataTable =\n",
              "            await google.colab.kernel.invokeFunction('convertToInteractive',\n",
              "                                                     [key], {});\n",
              "          if (!dataTable) return;\n",
              "\n",
              "          const docLinkHtml = 'Like what you see? Visit the ' +\n",
              "            '<a target=\"_blank\" href=https://colab.research.google.com/notebooks/data_table.ipynb>data table notebook</a>'\n",
              "            + ' to learn more about interactive tables.';\n",
              "          element.innerHTML = '';\n",
              "          dataTable['output_type'] = 'display_data';\n",
              "          await google.colab.output.renderOutput(dataTable, element);\n",
              "          const docLink = document.createElement('div');\n",
              "          docLink.innerHTML = docLinkHtml;\n",
              "          element.appendChild(docLink);\n",
              "        }\n",
              "      </script>\n",
              "    </div>\n",
              "  </div>\n",
              "  "
            ],
            "text/plain": [
              "   Clearsky DHI  Clearsky DNI  Clearsky GHI\n",
              "0     -0.256608      0.167621     -1.134570\n",
              "1     -1.598443     -0.152085     -2.806393\n",
              "2      0.071571     -0.070461      0.015488\n",
              "3      0.083924     -0.059860      0.056938\n",
              "4      0.085485     -0.058521      0.062178"
            ]
          },
          "metadata": {},
          "execution_count": 32
        }
      ]
    },
    {
      "cell_type": "code",
      "source": [
        "# convert negative values to 0\n",
        "df_submission[df_submission < 0] = 0"
      ],
      "metadata": {
        "id": "Yzyx2EFsIDGh"
      },
      "execution_count": 33,
      "outputs": []
    },
    {
      "cell_type": "code",
      "source": [
        "df_submission.to_csv('my_submission_8.csv', index=False)"
      ],
      "metadata": {
        "id": "pC8eO61C8O26"
      },
      "execution_count": 35,
      "outputs": []
    },
    {
      "cell_type": "code",
      "source": [
        "df_submission.shape"
      ],
      "metadata": {
        "id": "TSuXeDUn8bye",
        "colab": {
          "base_uri": "https://localhost:8080/"
        },
        "outputId": "f1053b9e-eedc-44e5-bb51-19a4e7799e4c"
      },
      "execution_count": null,
      "outputs": [
        {
          "output_type": "execute_result",
          "data": {
            "text/plain": [
              "(17520, 3)"
            ]
          },
          "metadata": {},
          "execution_count": 75
        }
      ]
    },
    {
      "cell_type": "code",
      "source": [
        "files.download('my_submission_8.csv')"
      ],
      "metadata": {
        "colab": {
          "base_uri": "https://localhost:8080/",
          "height": 17
        },
        "id": "C86nLP028ep5",
        "outputId": "f1d71afe-2188-4c2f-eade-f52ef960081f"
      },
      "execution_count": 36,
      "outputs": [
        {
          "output_type": "display_data",
          "data": {
            "application/javascript": [
              "\n",
              "    async function download(id, filename, size) {\n",
              "      if (!google.colab.kernel.accessAllowed) {\n",
              "        return;\n",
              "      }\n",
              "      const div = document.createElement('div');\n",
              "      const label = document.createElement('label');\n",
              "      label.textContent = `Downloading \"${filename}\": `;\n",
              "      div.appendChild(label);\n",
              "      const progress = document.createElement('progress');\n",
              "      progress.max = size;\n",
              "      div.appendChild(progress);\n",
              "      document.body.appendChild(div);\n",
              "\n",
              "      const buffers = [];\n",
              "      let downloaded = 0;\n",
              "\n",
              "      const channel = await google.colab.kernel.comms.open(id);\n",
              "      // Send a message to notify the kernel that we're ready.\n",
              "      channel.send({})\n",
              "\n",
              "      for await (const message of channel.messages) {\n",
              "        // Send a message to notify the kernel that we're ready.\n",
              "        channel.send({})\n",
              "        if (message.buffers) {\n",
              "          for (const buffer of message.buffers) {\n",
              "            buffers.push(buffer);\n",
              "            downloaded += buffer.byteLength;\n",
              "            progress.value = downloaded;\n",
              "          }\n",
              "        }\n",
              "      }\n",
              "      const blob = new Blob(buffers, {type: 'application/binary'});\n",
              "      const a = document.createElement('a');\n",
              "      a.href = window.URL.createObjectURL(blob);\n",
              "      a.download = filename;\n",
              "      div.appendChild(a);\n",
              "      a.click();\n",
              "      div.remove();\n",
              "    }\n",
              "  "
            ],
            "text/plain": [
              "<IPython.core.display.Javascript object>"
            ]
          },
          "metadata": {}
        },
        {
          "output_type": "display_data",
          "data": {
            "application/javascript": [
              "download(\"download_3d2b42f2-a6c2-45ab-8afb-7901038fbb51\", \"my_submission_8.csv\", 464141)"
            ],
            "text/plain": [
              "<IPython.core.display.Javascript object>"
            ]
          },
          "metadata": {}
        }
      ]
    },
    {
      "cell_type": "code",
      "source": [
        "files.download(\"model_submission_8.h5\")"
      ],
      "metadata": {
        "id": "rf4rWNrsp6Uf",
        "colab": {
          "base_uri": "https://localhost:8080/",
          "height": 17
        },
        "outputId": "0e7fada0-52cd-481d-f221-9164fd3968d4"
      },
      "execution_count": 37,
      "outputs": [
        {
          "output_type": "display_data",
          "data": {
            "application/javascript": [
              "\n",
              "    async function download(id, filename, size) {\n",
              "      if (!google.colab.kernel.accessAllowed) {\n",
              "        return;\n",
              "      }\n",
              "      const div = document.createElement('div');\n",
              "      const label = document.createElement('label');\n",
              "      label.textContent = `Downloading \"${filename}\": `;\n",
              "      div.appendChild(label);\n",
              "      const progress = document.createElement('progress');\n",
              "      progress.max = size;\n",
              "      div.appendChild(progress);\n",
              "      document.body.appendChild(div);\n",
              "\n",
              "      const buffers = [];\n",
              "      let downloaded = 0;\n",
              "\n",
              "      const channel = await google.colab.kernel.comms.open(id);\n",
              "      // Send a message to notify the kernel that we're ready.\n",
              "      channel.send({})\n",
              "\n",
              "      for await (const message of channel.messages) {\n",
              "        // Send a message to notify the kernel that we're ready.\n",
              "        channel.send({})\n",
              "        if (message.buffers) {\n",
              "          for (const buffer of message.buffers) {\n",
              "            buffers.push(buffer);\n",
              "            downloaded += buffer.byteLength;\n",
              "            progress.value = downloaded;\n",
              "          }\n",
              "        }\n",
              "      }\n",
              "      const blob = new Blob(buffers, {type: 'application/binary'});\n",
              "      const a = document.createElement('a');\n",
              "      a.href = window.URL.createObjectURL(blob);\n",
              "      a.download = filename;\n",
              "      div.appendChild(a);\n",
              "      a.click();\n",
              "      div.remove();\n",
              "    }\n",
              "  "
            ],
            "text/plain": [
              "<IPython.core.display.Javascript object>"
            ]
          },
          "metadata": {}
        },
        {
          "output_type": "display_data",
          "data": {
            "application/javascript": [
              "download(\"download_effbfa75-cda7-4a1c-b522-e44ba178c400\", \"model_submission_8.h5\", 2866072)"
            ],
            "text/plain": [
              "<IPython.core.display.Javascript object>"
            ]
          },
          "metadata": {}
        }
      ]
    },
    {
      "cell_type": "code",
      "source": [
        ""
      ],
      "metadata": {
        "id": "Jy5eGWJa_Id-"
      },
      "execution_count": null,
      "outputs": []
    }
  ]
}